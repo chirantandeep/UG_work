{
 "cells": [
  {
   "cell_type": "markdown",
   "metadata": {},
   "source": [
    "Run on sagemath"
   ]
  },
  {
   "cell_type": "code",
   "execution_count": 1,
   "metadata": {},
   "outputs": [],
   "source": [
    "from numpy import genfromtxt\n",
    "import numpy as np"
   ]
  },
  {
   "cell_type": "code",
   "execution_count": 2,
   "metadata": {},
   "outputs": [],
   "source": [
    "SS573KO = np.transpose(genfromtxt('/home/sironton/MYSPACE/HighTempDef/TermPaper/SS_573K.csv', delimiter=','))\n",
    "SS673KO = np.transpose(genfromtxt('/home/sironton/MYSPACE/HighTempDef/TermPaper/SS_673K.csv', delimiter=','))\n",
    "SS623KO = np.transpose(genfromtxt('/home/sironton/MYSPACE/HighTempDef/TermPaper/SS_623K.csv', delimiter=','))\n",
    "SS723KO = np.transpose(genfromtxt('/home/sironton/MYSPACE/HighTempDef/TermPaper/SS_723K.csv', delimiter=','))\n",
    "\n",
    "SS573K = np.transpose(genfromtxt('/home/sironton/MYSPACE/HighTempDef/TermPaper/SS_573K.csv', delimiter=','))\n",
    "SS673K = np.transpose(genfromtxt('/home/sironton/MYSPACE/HighTempDef/TermPaper/SS_673K.csv', delimiter=','))\n",
    "SS623K = np.transpose(genfromtxt('/home/sironton/MYSPACE/HighTempDef/TermPaper/SS_623K.csv', delimiter=','))\n",
    "SS723K = np.transpose(genfromtxt('/home/sironton/MYSPACE/HighTempDef/TermPaper/SS_723K.csv', delimiter=','))"
   ]
  },
  {
   "cell_type": "code",
   "execution_count": 3,
   "metadata": {},
   "outputs": [],
   "source": [
    "var('a,b,t')\n",
    "model(t)=a*t+b"
   ]
  },
  {
   "cell_type": "code",
   "execution_count": 4,
   "metadata": {},
   "outputs": [],
   "source": [
    "def dist_l_p(fit, points):\n",
    "    D = 0\n",
    "    for point in points:\n",
    "        d = (fit[a]*point[0] - point[1] + fit[b])/(sqrt(fit[a]^2 +1))\n",
    "        D += d^2\n",
    "    return D       "
   ]
  },
  {
   "cell_type": "code",
   "execution_count": 6,
   "metadata": {},
   "outputs": [
    {
     "data": {
      "application/vnd.jupyter.widget-view+json": {
       "model_id": "494763772834408484e763633552bec2"
      }
     },
     "metadata": {},
     "output_type": "display_data"
    }
   ],
   "source": [
    "@interact\n",
    "def _(q=slider(1,400,step_size=5,default=186,label=\"Q(KJ/mol)\"),y=slider([20 .. 150],default=80),s0=slider([1 .. 12],default=12,label=\"$\\\\sigma_0$\")):\n",
    "\n",
    "    sigma0 = s0\n",
    "    YoungsE = y*1000\n",
    "    R = 8.314\n",
    "    Q = q*1000\n",
    "    \n",
    "    SS573K[0] = np.log10((SS573KO[0]-sigma0)/YoungsE)\n",
    "    SS623K[0] = np.log10((SS623KO[0]-sigma0)/YoungsE)\n",
    "    SS673K[0] = np.log10((SS673KO[0]-sigma0)/YoungsE)\n",
    "    SS723K[0] = np.log10((SS723KO[0]-sigma0)/YoungsE)\n",
    "\n",
    "    SS573K[1] = SS573KO[1] +Q/(R*573)\n",
    "    SS623K[1] = SS623KO[1] +Q/(R*623)\n",
    "    SS673K[1] = SS673KO[1] +Q/(R*673)\n",
    "    SS723K[1] = SS723KO[1] +Q/(R*723)\n",
    "\n",
    "    SSdata1 = np.transpose([ SS573K[0][-8:-1], SS573K[1][-8:-1] ])\n",
    "    SSdata2 = np.transpose([ SS623K[0][-6:-1], SS623K[1][-6:-1] ])\n",
    "    SSdata3 = np.transpose([ SS673K[0][-5:-1], SS673K[1][-5:-1] ])\n",
    "    SSdata4 = np.transpose([ SS723K[0][-6:-1], SS723K[1][-6:-1] ])\n",
    "    \n",
    "    DATA = []   \n",
    "    for i in SSdata1 :\n",
    "        DATA.append(i)\n",
    "    for i in SSdata2 :\n",
    "        DATA.append(i)\n",
    "    for i in SSdata3 :\n",
    "        DATA.append(i)\n",
    "    for i in SSdata4 :\n",
    "        DATA.append(i)\n",
    "    \n",
    "    g = Graphics()\n",
    "    \n",
    "    fit=find_fit(DATA,model,solution_dict=True)\n",
    "    ntext = \"n  = \"+str(fit[a])\n",
    "    print(ntext)\n",
    "\n",
    "    g += scatter_plot(SSdata1,facecolor='orange',edgecolor='white')\n",
    "    g += scatter_plot(SSdata2,facecolor='red',edgecolor='white')\n",
    "    g += scatter_plot(SSdata3,facecolor='blue',edgecolor='white')\n",
    "    g += scatter_plot(SSdata4,facecolor='purple',edgecolor='white')\n",
    "    \n",
    "    g += plot(model.subs(fit),xmin = SSdata4[0][0],xmax = SSdata1[6][0])\n",
    "    \n",
    "    print(\"var= \"+str(dist_l_p(fit,DATA)))\n",
    "    \n",
    "    g.show(axes_labels=[\"$\\\\log{(\\\\sigma -\\\\sigma_0)/E}$\",\"$\\\\log{\\\\frac{\\\\dot{\\\\epsilon}}{\\\\exp{(-Q/RT)}}}$\"])"
   ]
  },
  {
   "cell_type": "code",
   "execution_count": 7,
   "metadata": {},
   "outputs": [
    {
     "data": {
      "text/plain": [
       "4.42093278670937e-31"
      ]
     },
     "execution_count": 7,
     "metadata": {},
     "output_type": "execute_result"
    }
   ],
   "source": [
    "exp(-326000/(8.14*573))"
   ]
  },
  {
   "cell_type": "code",
   "execution_count": 8,
   "metadata": {},
   "outputs": [
    {
     "data": {
      "application/vnd.jupyter.widget-view+json": {
       "model_id": "cfb5a7ec4fd84a8e836b72a224fbf482"
      }
     },
     "metadata": {},
     "output_type": "display_data"
    }
   ],
   "source": [
    "@interact\n",
    "def _(q=slider(1,100,step_size=5,default=34,label=\"Q(KJ/mol)\"),y=slider([20 .. 150],default=80),s0=slider([1 .. 12],default=12,label=\"$\\\\sigma_0$\")):\n",
    "\n",
    "    sigma0 = s0\n",
    "    YoungsE = y*1000\n",
    "    R = 8.314\n",
    "    Q = q*1000\n",
    "    \n",
    "    SS573K[0] = np.log10((SS573KO[0]-sigma0)/YoungsE)\n",
    "    SS623K[0] = np.log10((SS623KO[0]-sigma0)/YoungsE)\n",
    "    SS673K[0] = np.log10((SS673KO[0]-sigma0)/YoungsE)\n",
    "    SS723K[0] = np.log10((SS723KO[0]-sigma0)/YoungsE)\n",
    "\n",
    "    SS573K[1] = SS573KO[1] +Q/(R*573)\n",
    "    SS623K[1] = SS623KO[1] +Q/(R*623)\n",
    "    SS673K[1] = SS673KO[1] +Q/(R*673)\n",
    "    SS723K[1] = SS723KO[1] +Q/(R*723)\n",
    "\n",
    "    SSdata1 = np.transpose([ SS573K[0][0:4], SS573K[1][0:4] ])\n",
    "    SSdata2 = np.transpose([ SS623K[0][0:5], SS623K[1][0:5] ])\n",
    "    SSdata3 = np.transpose([ SS673K[0][0:3], SS673K[1][0:3] ])\n",
    "    SSdata4 = np.transpose([ SS723K[0][0:3], SS723K[1][0:3] ])\n",
    "    \n",
    "    DATA = []   \n",
    "    for i in SSdata1 :\n",
    "        DATA.append(i)\n",
    "    for i in SSdata2 :\n",
    "        DATA.append(i)\n",
    "    for i in SSdata3 :\n",
    "        DATA.append(i)\n",
    "    for i in SSdata4 :\n",
    "        DATA.append(i)\n",
    "    \n",
    "    g = Graphics()\n",
    "    \n",
    "    fit=find_fit(DATA,model,solution_dict=True)\n",
    "    model.subs(fit)\n",
    "    print(\"n=\"+str(fit[a]))\n",
    "\n",
    "    g += scatter_plot(SSdata1,facecolor='red',edgecolor='white')\n",
    "    g += scatter_plot(SSdata2,facecolor='orange',edgecolor='white')\n",
    "    g += scatter_plot(SSdata3,facecolor='blue',edgecolor='white')\n",
    "    g += scatter_plot(SSdata4,facecolor='purple',edgecolor='white')\n",
    "    \n",
    "    g += plot(model.subs(fit),xmin = SSdata4[0][0],xmax = SSdata1[3][0])\n",
    "    \n",
    "    print(\"var=\"+str(dist_l_p(fit,DATA)))\n",
    "    \n",
    "    g.show(axes_labels=[\"$\\\\log{(\\\\sigma -\\\\sigma_0)/E}$\",\"$\\\\log{\\\\frac{\\\\dot{\\\\epsilon}}{\\\\exp{(-Q/RT)}}}$\"])"
   ]
  },
  {
   "cell_type": "code",
   "execution_count": null,
   "metadata": {},
   "outputs": [],
   "source": []
  }
 ],
 "metadata": {
  "kernelspec": {
   "display_name": "SageMath 9.0",
   "language": "sage",
   "name": "sagemath"
  },
  "language_info": {
   "codemirror_mode": {
    "name": "ipython",
    "version": 3
   },
   "file_extension": ".py",
   "mimetype": "text/x-python",
   "name": "python",
   "nbconvert_exporter": "python",
   "pygments_lexer": "ipython3",
   "version": "3.8.10"
  }
 },
 "nbformat": 4,
 "nbformat_minor": 4
}
