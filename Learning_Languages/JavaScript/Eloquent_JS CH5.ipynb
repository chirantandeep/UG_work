{
 "cells": [
  {
   "cell_type": "markdown",
   "metadata": {},
   "source": [
    "# CH5 HIGHER-ORDER FUNCTIONS"
   ]
  },
  {
   "cell_type": "markdown",
   "metadata": {},
   "source": [
    "Consider two different codes for the same program."
   ]
  },
  {
   "cell_type": "code",
   "execution_count": 1,
   "metadata": {},
   "outputs": [
    {
     "name": "stdout",
     "output_type": "stream",
     "text": [
      "55\n"
     ]
    },
    {
     "data": {
      "text/plain": [
       "undefined"
      ]
     },
     "execution_count": 1,
     "metadata": {},
     "output_type": "execute_result"
    }
   ],
   "source": [
    "let total = 0, count = 1;\n",
    "while (count <= 10) {\n",
    "    total += count;\n",
    "    count += 1;\n",
    "}\n",
    "console.log(total);"
   ]
  },
  {
   "cell_type": "code",
   "execution_count": 2,
   "metadata": {},
   "outputs": [
    {
     "data": {
      "text/plain": [
       "undefined"
      ]
     },
     "execution_count": 2,
     "metadata": {},
     "output_type": "execute_result"
    }
   ],
   "source": [
    "//console.log(sum(range(1, 10)));"
   ]
  },
  {
   "cell_type": "markdown",
   "metadata": {},
   "source": [
    "Which one is more likely to contain a bug? The 2nd one because they are expressing simpler concepts than the program as a whole, they are easier to get right."
   ]
  },
  {
   "cell_type": "markdown",
   "metadata": {},
   "source": [
    "## Abstraction\n",
    "In the context of programming, these kinds of vocabularies are usually called **abstractions**. Abstractions hide details and give us the ability to talk about problems at a higher (or more abstract) level.<br>Plain functions, as we’ve seen them so far, are a good way to build abstractions. But sometimes they fall short. It is common for a program to do something a given number of times."
   ]
  },
  {
   "cell_type": "code",
   "execution_count": 2,
   "metadata": {},
   "outputs": [
    {
     "name": "stdout",
     "output_type": "stream",
     "text": [
      "0\n",
      "1\n",
      "2\n",
      "3\n",
      "4\n",
      "5\n",
      "6\n",
      "7\n",
      "8\n",
      "9\n"
     ]
    },
    {
     "data": {
      "text/plain": [
       "undefined"
      ]
     },
     "execution_count": 2,
     "metadata": {},
     "output_type": "execute_result"
    }
   ],
   "source": [
    "for (let i = 0; i < 10; i++) {\n",
    "    console.log(i);\n",
    "}"
   ]
  },
  {
   "cell_type": "markdown",
   "metadata": {},
   "source": [
    "Can we abstract “doing something N times” as a function? Well, it’s easy to write a function that calls `console.log` N times."
   ]
  },
  {
   "cell_type": "code",
   "execution_count": 4,
   "metadata": {},
   "outputs": [
    {
     "data": {
      "text/plain": [
       "undefined"
      ]
     },
     "execution_count": 4,
     "metadata": {},
     "output_type": "execute_result"
    }
   ],
   "source": [
    "function repeatLog(n) {\n",
    "    for (let i = 0; i < n; i++) {\n",
    "        console.log(i);\n",
    "    }\n",
    "}"
   ]
  },
  {
   "cell_type": "markdown",
   "metadata": {},
   "source": [
    "But what if we want to do something other than logging the numbers?"
   ]
  },
  {
   "cell_type": "code",
   "execution_count": 5,
   "metadata": {},
   "outputs": [
    {
     "name": "stdout",
     "output_type": "stream",
     "text": [
      "0\n",
      "1\n",
      "2\n"
     ]
    },
    {
     "data": {
      "text/plain": [
       "undefined"
      ]
     },
     "execution_count": 5,
     "metadata": {},
     "output_type": "execute_result"
    }
   ],
   "source": [
    "function repeat(n, action) {\n",
    "for (let i = 0; i < n; i++) {\n",
    "action(i);\n",
    "}}\n",
    "repeat(3, console.log);"
   ]
  },
  {
   "cell_type": "markdown",
   "metadata": {},
   "source": [
    "We don’t have to pass a predefined function to repeat . Often, it is easier to create a function value on the spot instead."
   ]
  },
  {
   "cell_type": "code",
   "execution_count": 6,
   "metadata": {},
   "outputs": [
    {
     "name": "stdout",
     "output_type": "stream",
     "text": [
      "[ 'Unit 1', 'Unit 2', 'Unit 3', 'Unit 4', 'Unit 5' ]\n"
     ]
    },
    {
     "data": {
      "text/plain": [
       "undefined"
      ]
     },
     "execution_count": 6,
     "metadata": {},
     "output_type": "execute_result"
    }
   ],
   "source": [
    "let labels = [];\n",
    "repeat(5, i => {\n",
    "    labels.push(`Unit ${i + 1}`);\n",
    "});\n",
    "console.log(labels);"
   ]
  },
  {
   "cell_type": "markdown",
   "metadata": {},
   "source": [
    "## Higher-Order Functions\n",
    "\n",
    "Functions that _operate on other functions_, either by taking them as arguments or by returning them, are called **higher-order functions**. Higher-order functions allow us to abstract over actions, not just values. They come in several forms. For example, we can have functions that create new functions."
   ]
  },
  {
   "cell_type": "code",
   "execution_count": 7,
   "metadata": {},
   "outputs": [
    {
     "name": "stdout",
     "output_type": "stream",
     "text": [
      "true\n"
     ]
    },
    {
     "data": {
      "text/plain": [
       "undefined"
      ]
     },
     "execution_count": 7,
     "metadata": {},
     "output_type": "execute_result"
    }
   ],
   "source": [
    "function greaterThan(n) {\n",
    "    return m => m > n; }\n",
    "\n",
    "let greaterThan10 = greaterThan(10);\n",
    "\n",
    "console.log(greaterThan10(11));"
   ]
  },
  {
   "cell_type": "markdown",
   "metadata": {},
   "source": [
    "And we can have functions that change other functions."
   ]
  },
  {
   "cell_type": "code",
   "execution_count": 8,
   "metadata": {},
   "outputs": [
    {
     "name": "stdout",
     "output_type": "stream",
     "text": [
      "calling with [ 3, 2, 1 ]\n",
      "called with [ 3, 2, 1 ] , returned 1\n"
     ]
    },
    {
     "data": {
      "text/plain": [
       "1"
      ]
     },
     "execution_count": 8,
     "metadata": {},
     "output_type": "execute_result"
    }
   ],
   "source": [
    "function noisy(f) {\n",
    "    return (...args) => {\n",
    "        console.log(\"calling with\", args);\n",
    "        let result = f(...args);\n",
    "        console.log(\"called with\", args, \", returned\", result);\n",
    "        return result;\n",
    "    };\n",
    "}\n",
    "noisy(Math.min)(3, 2, 1);"
   ]
  },
  {
   "cell_type": "markdown",
   "metadata": {},
   "source": [
    "We can even write functions that provide new types of control flow."
   ]
  },
  {
   "cell_type": "code",
   "execution_count": 9,
   "metadata": {},
   "outputs": [
    {
     "name": "stdout",
     "output_type": "stream",
     "text": [
      "0 is even\n",
      "2 is even\n",
      "4 is even\n"
     ]
    },
    {
     "data": {
      "text/plain": [
       "undefined"
      ]
     },
     "execution_count": 9,
     "metadata": {},
     "output_type": "execute_result"
    }
   ],
   "source": [
    "function unless(test, then) {\n",
    "    if (!test) then();\n",
    "}\n",
    "repeat(6, n => {\n",
    "    unless(n % 2 == 1, () => {\n",
    "        console.log(n, \"is even\");\n",
    "    });\n",
    "});"
   ]
  },
  {
   "cell_type": "markdown",
   "metadata": {},
   "source": [
    "There is a built-in array method, `forEach` , that provides something like a for / of loop as a higher-order function."
   ]
  },
  {
   "cell_type": "code",
   "execution_count": 10,
   "metadata": {},
   "outputs": [
    {
     "name": "stdout",
     "output_type": "stream",
     "text": [
      "A\n",
      "B\n"
     ]
    },
    {
     "data": {
      "text/plain": [
       "undefined"
      ]
     },
     "execution_count": 10,
     "metadata": {},
     "output_type": "execute_result"
    }
   ],
   "source": [
    "[\"A\", \"B\"].forEach(l => console.log(l));"
   ]
  },
  {
   "cell_type": "markdown",
   "metadata": {},
   "source": [
    "## Script Data Set\n",
    "\n",
    "One area where higher-order functions shine is data processing. To process data, we’ll need some actual data. This chapter will use a data set about scripts—writing systems such as Latin, Cyrillic, or Arabic. "
   ]
  },
  {
   "cell_type": "code",
   "execution_count": 20,
   "metadata": {},
   "outputs": [
    {
     "data": {
      "text/plain": [
       "undefined"
      ]
     },
     "execution_count": 20,
     "metadata": {},
     "output_type": "execute_result"
    }
   ],
   "source": [
    "/*The script is run and removed because of space consumption.*/"
   ]
  },
  {
   "cell_type": "markdown",
   "metadata": {},
   "source": [
    "### Filtering Arrays"
   ]
  },
  {
   "cell_type": "code",
   "execution_count": 3,
   "metadata": {},
   "outputs": [
    {
     "data": {
      "text/plain": [
       "undefined"
      ]
     },
     "execution_count": 3,
     "metadata": {},
     "output_type": "execute_result"
    }
   ],
   "source": [
    "function filter(array, test) {\n",
    "    let passed = [];\n",
    "    for (let element of array) {\n",
    "        if (test(element)) {\n",
    "            passed.push(element);\n",
    "        }\n",
    "    }\n",
    "    return passed;\n",
    "}"
   ]
  },
  {
   "cell_type": "code",
   "execution_count": 21,
   "metadata": {},
   "outputs": [
    {
     "data": {
      "text/plain": [
       "undefined"
      ]
     },
     "execution_count": 21,
     "metadata": {},
     "output_type": "execute_result"
    }
   ],
   "source": [
    "//console.log(filter(SCRIPTS, script => script.living));\n",
    "// → [{name: \"Adlam\", ...}, ...]"
   ]
  },
  {
   "cell_type": "markdown",
   "metadata": {},
   "source": [
    "The function uses the argument named test , a function value, to fill a “gap” in the computation—the process of deciding which elements to collect. Note how the filter function, rather than deleting elements from the existing array, builds up a new array with only the elements that pass the test. *This function is **pure***. It does not modify the array it is given. Like `forEach`, filter is a standard array method and the standard way to use it is:"
   ]
  },
  {
   "cell_type": "code",
   "execution_count": 19,
   "metadata": {},
   "outputs": [
    {
     "name": "stdout",
     "output_type": "stream",
     "text": [
      "[\n",
      "  {\n",
      "    name: 'Mongolian',\n",
      "    ranges: [\n",
      "      [Array], [Array],\n",
      "      [Array], [Array],\n",
      "      [Array], [Array],\n",
      "      [Array]\n",
      "    ],\n",
      "    direction: 'ttb',\n",
      "    year: 1204,\n",
      "    living: false,\n",
      "    link: 'https://en.wikipedia.org/wiki/Mongolian_script'\n",
      "  },\n",
      "  {\n",
      "    name: 'Phags-pa',\n",
      "    ranges: [ [Array], [Array] ],\n",
      "    direction: 'ttb',\n",
      "    year: 1269,\n",
      "    living: false,\n",
      "    link: 'https://en.wikipedia.org/wiki/%27Phags-pa_script'\n",
      "  },\n",
      "  {\n",
      "    name: 'SignWriting',\n",
      "    ranges: [ [Array], [Array], [Array] ],\n",
      "    direction: 'ttb',\n",
      "    year: 1974,\n",
      "    living: true,\n",
      "    link: 'https://en.wikipedia.org/wiki/SignWriting'\n",
      "  }\n",
      "]\n"
     ]
    },
    {
     "data": {
      "text/plain": [
       "undefined"
      ]
     },
     "execution_count": 19,
     "metadata": {},
     "output_type": "execute_result"
    }
   ],
   "source": [
    "console.log(SCRIPTS.filter(s => s.direction == \"ttb\"));"
   ]
  },
  {
   "cell_type": "markdown",
   "metadata": {},
   "source": [
    "### Transforming with map"
   ]
  },
  {
   "cell_type": "markdown",
   "metadata": {},
   "source": [
    "The `map` method transforms an array by applying a function to all of its elements and building a new array from the returned values. The new array will have the same length as the input array, but its content will have been mapped to a new form by the function."
   ]
  },
  {
   "cell_type": "code",
   "execution_count": 23,
   "metadata": {},
   "outputs": [
    {
     "name": "stdout",
     "output_type": "stream",
     "text": [
      "[\n",
      "  'Adlam',                 'Arabic',\n",
      "  'Imperial Aramaic',      'Avestan',\n",
      "  'Cypriot',               'Hatran',\n",
      "  'Hebrew',                'Old Hungarian',\n",
      "  'Kharoshthi',            'Lydian',\n",
      "  'Mandaic',               'Manichaean',\n",
      "  'Mende Kikakui',         'Meroitic Cursive',\n",
      "  'Meroitic Hieroglyphs',  'Old North Arabian',\n",
      "  'Nabataean',             'Nko',\n",
      "  'Old Turkic',            'Palmyrene',\n",
      "  'Inscriptional Pahlavi', 'Psalter Pahlavi',\n",
      "  'Phoenician',            'Inscriptional Parthian',\n",
      "  'Samaritan',             'Old South Arabian',\n",
      "  'Syriac',                'Thaana'\n",
      "]\n"
     ]
    },
    {
     "data": {
      "text/plain": [
       "undefined"
      ]
     },
     "execution_count": 23,
     "metadata": {},
     "output_type": "execute_result"
    }
   ],
   "source": [
    "function map(array, transform) {\n",
    "    let mapped = [];\n",
    "    for (let element of array) {\n",
    "        mapped.push(transform(element));\n",
    "    }\n",
    "    return mapped;\n",
    "}\n",
    "let rtlScripts = SCRIPTS.filter(s => s.direction == \"rtl\");\n",
    "console.log(map(rtlScripts, s => s.name));"
   ]
  },
  {
   "cell_type": "markdown",
   "metadata": {},
   "source": [
    "Like `forEach` and `filter` , `map` is a standard array method."
   ]
  },
  {
   "cell_type": "markdown",
   "metadata": {},
   "source": [
    "### Summarizing with reduce"
   ]
  },
  {
   "cell_type": "markdown",
   "metadata": {},
   "source": [
    "Another common thing to do with arrays is to compute a single value from them. Our recurring example, summing a collection of numbers, is an instance of this. The higher-order operation that represents this pattern is called `reduce` (sometimes also called `fold`). It builds a value by repeatedly taking a single element from the array and combining it with the current value. When summing numbers, you’d start with the number zero and, for each element, add that to the sum."
   ]
  },
  {
   "cell_type": "code",
   "execution_count": 24,
   "metadata": {},
   "outputs": [
    {
     "name": "stdout",
     "output_type": "stream",
     "text": [
      "10\n"
     ]
    },
    {
     "data": {
      "text/plain": [
       "undefined"
      ]
     },
     "execution_count": 24,
     "metadata": {},
     "output_type": "execute_result"
    }
   ],
   "source": [
    "function reduce(array, combine, start) {\n",
    "let current = start;\n",
    "for (let element of array) {\n",
    "current = combine(current, element);\n",
    "}\n",
    "return current;\n",
    "}\n",
    "console.log(reduce([1, 2, 3, 4], (a, b) => a + b, 0));"
   ]
  },
  {
   "cell_type": "markdown",
   "metadata": {},
   "source": [
    "The standard array method `reduce` , which of course corresponds to this function, has an added convenience. If your array contains at least one element, you are allowed to leave off the start argument. The method will take the first element of the array as its start value and start reducing at the second element."
   ]
  },
  {
   "cell_type": "code",
   "execution_count": 25,
   "metadata": {},
   "outputs": [
    {
     "name": "stdout",
     "output_type": "stream",
     "text": [
      "10\n"
     ]
    },
    {
     "data": {
      "text/plain": [
       "undefined"
      ]
     },
     "execution_count": 25,
     "metadata": {},
     "output_type": "execute_result"
    }
   ],
   "source": [
    "console.log([1, 2, 3, 4].reduce((a, b) => a + b));"
   ]
  },
  {
   "cell_type": "markdown",
   "metadata": {},
   "source": [
    "To use reduce (twice) to find the script with the most characters, we can write something like this:"
   ]
  },
  {
   "cell_type": "code",
   "execution_count": 26,
   "metadata": {},
   "outputs": [
    {
     "name": "stdout",
     "output_type": "stream",
     "text": [
      "{\n",
      "  name: 'Han',\n",
      "  ranges: [\n",
      "    [ 11904, 11930 ],   [ 11931, 12020 ],\n",
      "    [ 12032, 12246 ],   [ 12293, 12294 ],\n",
      "    [ 12295, 12296 ],   [ 12321, 12330 ],\n",
      "    [ 12344, 12348 ],   [ 13312, 19894 ],\n",
      "    [ 19968, 40939 ],   [ 63744, 64110 ],\n",
      "    [ 64112, 64218 ],   [ 131072, 173783 ],\n",
      "    [ 173824, 177973 ], [ 177984, 178206 ],\n",
      "    [ 178208, 183970 ], [ 183984, 191457 ],\n",
      "    [ 194560, 195102 ]\n",
      "  ],\n",
      "  direction: 'ltr',\n",
      "  year: -1100,\n",
      "  living: true,\n",
      "  link: 'https://en.wikipedia.org/wiki/Chinese_characters'\n",
      "}\n"
     ]
    },
    {
     "data": {
      "text/plain": [
       "undefined"
      ]
     },
     "execution_count": 26,
     "metadata": {},
     "output_type": "execute_result"
    }
   ],
   "source": [
    "function characterCount(script) {\n",
    "    return script.ranges.reduce((count, [from, to]) => {\n",
    "        return count + (to - from);\n",
    "    }, 0);\n",
    "}\n",
    "console.log(SCRIPTS.reduce((a, b) => {\n",
    "    return characterCount(a) < characterCount(b) ? b : a; }));"
   ]
  },
  {
   "cell_type": "markdown",
   "metadata": {},
   "source": [
    "### Composability"
   ]
  },
  {
   "cell_type": "markdown",
   "metadata": {},
   "source": [
    "Consider how we would have written the previous example (finding the biggest script) without higher-order functions. The code is not that much worse."
   ]
  },
  {
   "cell_type": "code",
   "execution_count": 27,
   "metadata": {},
   "outputs": [
    {
     "name": "stdout",
     "output_type": "stream",
     "text": [
      "{\n",
      "  name: 'Han',\n",
      "  ranges: [\n",
      "    [ 11904, 11930 ],   [ 11931, 12020 ],\n",
      "    [ 12032, 12246 ],   [ 12293, 12294 ],\n",
      "    [ 12295, 12296 ],   [ 12321, 12330 ],\n",
      "    [ 12344, 12348 ],   [ 13312, 19894 ],\n",
      "    [ 19968, 40939 ],   [ 63744, 64110 ],\n",
      "    [ 64112, 64218 ],   [ 131072, 173783 ],\n",
      "    [ 173824, 177973 ], [ 177984, 178206 ],\n",
      "    [ 178208, 183970 ], [ 183984, 191457 ],\n",
      "    [ 194560, 195102 ]\n",
      "  ],\n",
      "  direction: 'ltr',\n",
      "  year: -1100,\n",
      "  living: true,\n",
      "  link: 'https://en.wikipedia.org/wiki/Chinese_characters'\n",
      "}\n"
     ]
    },
    {
     "data": {
      "text/plain": [
       "undefined"
      ]
     },
     "execution_count": 27,
     "metadata": {},
     "output_type": "execute_result"
    }
   ],
   "source": [
    "let biggest = null;\n",
    "for (let script of SCRIPTS) {\n",
    "    if (biggest == null || characterCount(biggest) < characterCount(script)) {\n",
    "        biggest = script;\n",
    "    }\n",
    "}\n",
    "console.log(biggest);"
   ]
  },
  {
   "cell_type": "markdown",
   "metadata": {},
   "source": [
    "There are a few more bindings, and the program is four lines longer.\n",
    "But it is still very readable. Higher-order functions start to shine when you need to compose operations.\n",
    "\n",
    "As an example, let’s write code that finds the average year of origin for living and dead scripts in the data set."
   ]
  },
  {
   "cell_type": "code",
   "execution_count": 28,
   "metadata": {},
   "outputs": [
    {
     "name": "stdout",
     "output_type": "stream",
     "text": [
      "1165\n",
      "204\n"
     ]
    },
    {
     "data": {
      "text/plain": [
       "undefined"
      ]
     },
     "execution_count": 28,
     "metadata": {},
     "output_type": "execute_result"
    }
   ],
   "source": [
    "function average(array) {\n",
    "    return array.reduce((a, b) => a + b) / array.length;\n",
    "}\n",
    "\n",
    "console.log(Math.round(average(\n",
    "SCRIPTS.filter(s => s.living).map(s => s.year))));\n",
    "\n",
    "console.log(Math.round(average(\n",
    "SCRIPTS.filter(s => !s.living).map(s => s.year))));"
   ]
  },
  {
   "cell_type": "markdown",
   "metadata": {},
   "source": [
    "You could definitely also write this computation as one big loop."
   ]
  },
  {
   "cell_type": "code",
   "execution_count": 30,
   "metadata": {},
   "outputs": [
    {
     "name": "stdout",
     "output_type": "stream",
     "text": [
      "1165\n"
     ]
    },
    {
     "data": {
      "text/plain": [
       "undefined"
      ]
     },
     "execution_count": 30,
     "metadata": {},
     "output_type": "execute_result"
    }
   ],
   "source": [
    "let total1 = 0, count1 = 0;\n",
    "for (let script of SCRIPTS) {\n",
    "if (script.living) {\n",
    "total1 += script.year;\n",
    "count1 += 1;\n",
    "}\n",
    "}\n",
    "console.log(Math.round(total1 / count1));"
   ]
  },
  {
   "cell_type": "markdown",
   "metadata": {},
   "source": [
    "The 2nd way is less readable than the first but can be faster. So we face a trade off. "
   ]
  },
  {
   "cell_type": "markdown",
   "metadata": {},
   "source": [
    "## Strings and Character Codes"
   ]
  },
  {
   "cell_type": "markdown",
   "metadata": {},
   "source": [
    "One use of the data set would be figuring out what script a piece of text is using. Let’s go through a program that does this.\n",
    "Remember that each script has an array of character code ranges associated with it. So given a character code, we could use a function like this to find the corresponding script (if any):"
   ]
  },
  {
   "cell_type": "code",
   "execution_count": 31,
   "metadata": {},
   "outputs": [
    {
     "name": "stdout",
     "output_type": "stream",
     "text": [
      "{\n",
      "  name: 'Latin',\n",
      "  ranges: [\n",
      "    [ 65, 91 ],       [ 97, 123 ],\n",
      "    [ 170, 171 ],     [ 186, 187 ],\n",
      "    [ 192, 215 ],     [ 216, 247 ],\n",
      "    [ 248, 697 ],     [ 736, 741 ],\n",
      "    [ 7424, 7462 ],   [ 7468, 7517 ],\n",
      "    [ 7522, 7526 ],   [ 7531, 7544 ],\n",
      "    [ 7545, 7615 ],   [ 7680, 7936 ],\n",
      "    [ 8305, 8306 ],   [ 8319, 8320 ],\n",
      "    [ 8336, 8349 ],   [ 8490, 8492 ],\n",
      "    [ 8498, 8499 ],   [ 8526, 8527 ],\n",
      "    [ 8544, 8585 ],   [ 11360, 11392 ],\n",
      "    [ 42786, 42888 ], [ 42891, 42927 ],\n",
      "    [ 42928, 42936 ], [ 42999, 43008 ],\n",
      "    [ 43824, 43867 ], [ 43868, 43877 ],\n",
      "    [ 64256, 64263 ], [ 65313, 65339 ],\n",
      "    [ 65345, 65371 ]\n",
      "  ],\n",
      "  direction: 'ltr',\n",
      "  year: -700,\n",
      "  living: true,\n",
      "  link: 'https://en.wikipedia.org/wiki/Latin_script'\n",
      "}\n"
     ]
    },
    {
     "data": {
      "text/plain": [
       "undefined"
      ]
     },
     "execution_count": 31,
     "metadata": {},
     "output_type": "execute_result"
    }
   ],
   "source": [
    "function characterScript(code) {\n",
    "    for (let script of SCRIPTS) {\n",
    "        if (script.ranges.some(([from, to]) => {\n",
    "            return code >= from && code < to;\n",
    "        })) {\n",
    "            return script;\n",
    "        }\n",
    "    }\n",
    "    return null;\n",
    "}\n",
    "console.log(characterScript(121));"
   ]
  },
  {
   "cell_type": "markdown",
   "metadata": {},
   "source": [
    "The `some` method is another higher-order function. It takes a test function and tells you whether that function returns true for any of the elements in the array.\n",
    "\n",
    "Unfortunately, obvious operations on JavaScript strings, such as getting their length through the length property and accessing their content using square brackets, deal only with code units."
   ]
  },
  {
   "cell_type": "code",
   "execution_count": 32,
   "metadata": {},
   "outputs": [
    {
     "name": "stdout",
     "output_type": "stream",
     "text": [
      "4\n",
      "�\n",
      "55357\n",
      "128052\n"
     ]
    },
    {
     "data": {
      "text/plain": [
       "undefined"
      ]
     },
     "execution_count": 32,
     "metadata": {},
     "output_type": "execute_result"
    }
   ],
   "source": [
    "// Two emoji characters, horse and shoe\n",
    "let horseShoe = \"🐴👟\";\n",
    "console.log(horseShoe.length);\n",
    "\n",
    "console.log(horseShoe[0]);\n",
    "\n",
    "console.log(horseShoe.charCodeAt(0));\n",
    "\n",
    "console.log(horseShoe.codePointAt(0));"
   ]
  },
  {
   "cell_type": "markdown",
   "metadata": {},
   "source": [
    "JavaScript’s `charCodeAt` method gives you a code unit, not a full character code. The `codePointAt` method, added later, does give a full Unicode character. So we could use that to get characters from a string. But the argument passed to `codePointAt` is still an index into the sequence of code units. So to run over all characters in a string, we’d still need to deal with the question of whether a character takes up one or two code units."
   ]
  },
  {
   "cell_type": "code",
   "execution_count": 33,
   "metadata": {},
   "outputs": [
    {
     "name": "stdout",
     "output_type": "stream",
     "text": [
      "🌹\n",
      "🐉\n"
     ]
    },
    {
     "data": {
      "text/plain": [
       "undefined"
      ]
     },
     "execution_count": 33,
     "metadata": {},
     "output_type": "execute_result"
    }
   ],
   "source": [
    "let roseDragon = \"🌹🐉\";\n",
    "for (let char of roseDragon) {\n",
    "console.log(char);\n",
    "}"
   ]
  },
  {
   "cell_type": "markdown",
   "metadata": {},
   "source": [
    "## Recognizing Text"
   ]
  },
  {
   "cell_type": "markdown",
   "metadata": {},
   "source": [
    "We have a `characterScript` function and a way to correctly loop over characters. The next step is to count the characters that belong to each script. The following counting abstraction will be useful there:"
   ]
  },
  {
   "cell_type": "code",
   "execution_count": 5,
   "metadata": {},
   "outputs": [
    {
     "name": "stdout",
     "output_type": "stream",
     "text": [
      "[ { name: false, count: 3 }, { name: true, count: 3 } ]\n"
     ]
    },
    {
     "data": {
      "text/plain": [
       "undefined"
      ]
     },
     "execution_count": 5,
     "metadata": {},
     "output_type": "execute_result"
    }
   ],
   "source": [
    "function countBy(items, groupName) {\n",
    "    let counts = [];\n",
    "    for (let item of items) {\n",
    "        let name = groupName(item);\n",
    "        let known = counts.findIndex(c => c.name == name);\n",
    "        if (known == -1) {\n",
    "            counts.push({name, count: 1});\n",
    "        } else {\n",
    "            counts[known].count++;\n",
    "        }\n",
    "    }\n",
    "    return counts;\n",
    "}\n",
    "console.log(countBy([1, 2, 3, 4, 5, 6], n => n >= 3.5));   "
   ]
  },
  {
   "cell_type": "markdown",
   "metadata": {},
   "source": [
    "The `countBy` function expects a collection and a function that computes a group name for a given element. It uses another array method— `findIndex`. This method is somewhat like `indexOf`, but instead of looking for a specific value, it finds the first value for which the given function returns `true`. Like `indexOf` , it returns `−1` when no such element is found.\n",
    "\n",
    "Using `countBy` , we can write the function that tells us which scripts are used in a piece of text."
   ]
  },
  {
   "cell_type": "code",
   "execution_count": 35,
   "metadata": {},
   "outputs": [
    {
     "data": {
      "text/plain": [
       "undefined"
      ]
     },
     "execution_count": 35,
     "metadata": {},
     "output_type": "execute_result"
    }
   ],
   "source": [
    "function textScripts(text) {\n",
    "    let scripts = countBy(text, char => {\n",
    "        let script = characterScript(char.codePointAt(0));\n",
    "        return script ? script.name : \"none\";\n",
    "    }).filter(({name}) => name != \"none\");\n",
    "    let total = scripts.reduce((n, {count}) => n + count, 0);\n",
    "    if (total == 0) return \"No scripts found\";\n",
    "    return scripts.map(({name, count}) => {\n",
    "        return `${Math.round(count * 100 / total)}% ${name}`;\n",
    "    }).join(\", \");\n",
    "}"
   ]
  },
  {
   "cell_type": "code",
   "execution_count": 36,
   "metadata": {},
   "outputs": [
    {
     "name": "stdout",
     "output_type": "stream",
     "text": [
      "63% Han, 21% Latin, 16% Cyrillic\n"
     ]
    },
    {
     "data": {
      "text/plain": [
       "undefined"
      ]
     },
     "execution_count": 36,
     "metadata": {},
     "output_type": "execute_result"
    }
   ],
   "source": [
    "console.log(textScripts('英国的狗英国的狗 \"woof\", 俄斯的狗\" тяв\"'));"
   ]
  },
  {
   "cell_type": "markdown",
   "metadata": {},
   "source": [
    "The function first counts the characters by name, using `characterScript` to assign them a name and falling back to the string \"none\" for characters that aren’t part of any script. The `filter` call drops the entry for \"none\" from the resulting array since we aren’t interested in those characters. To be able to compute percentages, we first need the total number of characters that belong to a script, which we can compute with reduce . If no such characters are found, the function returns a specific string. Otherwise, it transforms the counting entries into readable strings with map and then combines them with `join`."
   ]
  }
 ],
 "metadata": {
  "kernelspec": {
   "display_name": "Javascript (Node.js)",
   "language": "javascript",
   "name": "javascript"
  },
  "language_info": {
   "file_extension": ".js",
   "mimetype": "application/javascript",
   "name": "javascript",
   "version": "15.2.1"
  }
 },
 "nbformat": 4,
 "nbformat_minor": 4
}
