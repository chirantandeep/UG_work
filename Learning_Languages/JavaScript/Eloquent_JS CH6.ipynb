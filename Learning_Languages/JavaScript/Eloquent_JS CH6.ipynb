{
 "cells": [
  {
   "cell_type": "markdown",
   "metadata": {},
   "source": [
    "# CH6 THE SECRET LIFE OF OBJECTS"
   ]
  },
  {
   "cell_type": "markdown",
   "metadata": {},
   "source": [
    "## Encapsulation\n",
    "**objects**. Their interface consists of a specific set of **methods** and **properties**. Properties that are part of the interface are called `public`. The others, which outside code should not be touching, are called `private`. JavaScript does not  distinguish public and private properties.  It is common to put an underscore character `_` at the beginning of property names to indicate that those properties are private. Separating interface from implementation is a great idea. It is usually called **encapsulation**."
   ]
  },
  {
   "cell_type": "markdown",
   "metadata": {},
   "source": [
    "## Methods\n",
    "Methods are nothing more than properties that hold function values. This is a simple method:"
   ]
  },
  {
   "cell_type": "code",
   "execution_count": 1,
   "metadata": {},
   "outputs": [
    {
     "name": "stdout",
     "output_type": "stream",
     "text": [
      "The rabbit says 'I'm alive.'\n"
     ]
    },
    {
     "data": {
      "text/plain": [
       "undefined"
      ]
     },
     "execution_count": 1,
     "metadata": {},
     "output_type": "execute_result"
    }
   ],
   "source": [
    "let rabbit = {};\n",
    "rabbit.speak = function(line) {\n",
    "    console.log(`The rabbit says '${line}'`);\n",
    "};\n",
    "rabbit.speak(\"I'm alive.\");"
   ]
  },
  {
   "cell_type": "markdown",
   "metadata": {},
   "source": [
    "Usually a method needs to do something with the object it was called on. When a function is called as a method—looked up as a property and immediately called, as in `object.method()` —the binding called `this` in its body\n",
    "automatically points at the object that it was called on."
   ]
  },
  {
   "cell_type": "code",
   "execution_count": 2,
   "metadata": {},
   "outputs": [
    {
     "name": "stdout",
     "output_type": "stream",
     "text": [
      "The white rabbit says 'Oh my ears and whiskers, how late it's getting!'\n"
     ]
    },
    {
     "data": {
      "text/plain": [
       "undefined"
      ]
     },
     "execution_count": 2,
     "metadata": {},
     "output_type": "execute_result"
    }
   ],
   "source": [
    "function speak(line) {\n",
    "    console.log(`The ${this.type} rabbit says '${line}'`);\n",
    "}\n",
    "let whiteRabbit = {type: \"white\", speak};\n",
    "let hungryRabbit = {type: \"hungry\", speak};\n",
    "whiteRabbit.speak(\"Oh my ears and whiskers, \" + \"how late it's getting!\");"
   ]
  },
  {
   "cell_type": "code",
   "execution_count": 3,
   "metadata": {},
   "outputs": [
    {
     "name": "stdout",
     "output_type": "stream",
     "text": [
      "The hungry rabbit says 'I could use a carrot right now.'\n"
     ]
    },
    {
     "data": {
      "text/plain": [
       "undefined"
      ]
     },
     "execution_count": 3,
     "metadata": {},
     "output_type": "execute_result"
    }
   ],
   "source": [
    "hungryRabbit.speak(\"I could use a carrot right now.\");"
   ]
  },
  {
   "cell_type": "markdown",
   "metadata": {},
   "source": [
    "You can think of `this` as an extra parameter that is passed in a different way. If you want to pass it explicitly, you can use a function’s `call` method, which takes the `this` value as its first argument and treats further arguments as normal parameters."
   ]
  },
  {
   "cell_type": "code",
   "execution_count": 4,
   "metadata": {},
   "outputs": [
    {
     "name": "stdout",
     "output_type": "stream",
     "text": [
      "The hungry rabbit says 'Burp!'\n"
     ]
    },
    {
     "data": {
      "text/plain": [
       "undefined"
      ]
     },
     "execution_count": 4,
     "metadata": {},
     "output_type": "execute_result"
    }
   ],
   "source": [
    "speak.call(hungryRabbit, \"Burp!\");"
   ]
  },
  {
   "cell_type": "markdown",
   "metadata": {},
   "source": [
    "Since each function has its own this binding, whose value depends on the way it is called, you cannot refer to the `this` of the wrapping scope in a regular function defined with the `function` keyword.\n",
    "\n",
    "Arrow functions are different—they do not bind their own `this` but can see the `this` binding of the scope around them. Thus, you can do something like the following code, which references `this` from inside a local function:"
   ]
  },
  {
   "cell_type": "code",
   "execution_count": 5,
   "metadata": {},
   "outputs": [
    {
     "name": "stdout",
     "output_type": "stream",
     "text": [
      "[ 0, 0.4, 0.6 ]\n"
     ]
    },
    {
     "data": {
      "text/plain": [
       "undefined"
      ]
     },
     "execution_count": 5,
     "metadata": {},
     "output_type": "execute_result"
    }
   ],
   "source": [
    "function normalize() {\n",
    "    console.log(this.coords.map(n => n / this.length));\n",
    "}\n",
    "normalize.call({coords: [0, 2, 3], length: 5});"
   ]
  },
  {
   "cell_type": "markdown",
   "metadata": {},
   "source": [
    "If I had written the argument to `map` using the `function` keyword, the code wouldn’t work."
   ]
  },
  {
   "cell_type": "markdown",
   "metadata": {},
   "source": [
    "## Prototypes"
   ]
  },
  {
   "cell_type": "code",
   "execution_count": 6,
   "metadata": {},
   "outputs": [
    {
     "name": "stdout",
     "output_type": "stream",
     "text": [
      "[Function: toString]\n",
      "[object Object]\n"
     ]
    },
    {
     "data": {
      "text/plain": [
       "undefined"
      ]
     },
     "execution_count": 6,
     "metadata": {},
     "output_type": "execute_result"
    }
   ],
   "source": [
    "let empty = {};\n",
    "console.log(empty.toString);\n",
    "console.log(empty.toString());"
   ]
  },
  {
   "cell_type": "markdown",
   "metadata": {},
   "source": [
    "I pulled a property out of an empty object. Magic! In addition to their set of properties, most\n",
    "objects also have a **prototype**. A prototype is another object that is used as a\n",
    "fallback source of properties. When an object gets a request for a property\n",
    "that it does not have, its prototype will be searched for the property, then\n",
    "the prototype’s prototype, and so on. So who is the prototype of that empty object? It is the great ancestral\n",
    "prototype, the entity behind almost all objects, `Object.prototype` ."
   ]
  },
  {
   "cell_type": "code",
   "execution_count": 7,
   "metadata": {},
   "outputs": [
    {
     "name": "stdout",
     "output_type": "stream",
     "text": [
      "true\n"
     ]
    },
    {
     "data": {
      "text/plain": [
       "undefined"
      ]
     },
     "execution_count": 7,
     "metadata": {},
     "output_type": "execute_result"
    }
   ],
   "source": [
    "console.log(Object.getPrototypeOf({}) == Object.prototype);"
   ]
  },
  {
   "cell_type": "code",
   "execution_count": 8,
   "metadata": {},
   "outputs": [
    {
     "name": "stdout",
     "output_type": "stream",
     "text": [
      "null\n"
     ]
    },
    {
     "data": {
      "text/plain": [
       "undefined"
      ]
     },
     "execution_count": 8,
     "metadata": {},
     "output_type": "execute_result"
    }
   ],
   "source": [
    "console.log(Object.getPrototypeOf(Object.prototype));"
   ]
  },
  {
   "cell_type": "markdown",
   "metadata": {},
   "source": [
    "As you guess, `Object.getPrototypeOf` returns the prototype of an object. The prototype relations of JavaScript objects form a tree-shaped structure, and at the root of this structure sits `Object.prototype` . It provides a few methods that show up in all objects, such as `toString` , which converts an object to a string representation. Many objects don’t directly have Object.prototype as their prototype but instead have another object that provides a different set of default properties. Functions derive from `Function.prototype` , and arrays derive from `Array.prototype`."
   ]
  },
  {
   "cell_type": "code",
   "execution_count": 9,
   "metadata": {},
   "outputs": [
    {
     "name": "stdout",
     "output_type": "stream",
     "text": [
      "true\n",
      "true\n"
     ]
    },
    {
     "data": {
      "text/plain": [
       "undefined"
      ]
     },
     "execution_count": 9,
     "metadata": {},
     "output_type": "execute_result"
    }
   ],
   "source": [
    "console.log(Object.getPrototypeOf(Math.max) == Function.prototype);\n",
    "console.log(Object.getPrototypeOf([]) == Array.prototype);"
   ]
  },
  {
   "cell_type": "markdown",
   "metadata": {},
   "source": [
    "One can use object.create to create an object with a specific prototype."
   ]
  },
  {
   "cell_type": "code",
   "execution_count": 10,
   "metadata": {},
   "outputs": [
    {
     "name": "stdout",
     "output_type": "stream",
     "text": [
      "the Killer rabbit says' mdefne' \n"
     ]
    },
    {
     "data": {
      "text/plain": [
       "undefined"
      ]
     },
     "execution_count": 10,
     "metadata": {},
     "output_type": "execute_result"
    }
   ],
   "source": [
    "let protoRabbit = {\n",
    "    speak(line) {\n",
    "        console.log(`the ${this.type} rabbit says'${line}' `);\n",
    "    }\n",
    "};\n",
    "let killerRabbit = Object.create(protoRabbit);\n",
    "killerRabbit.type = \"Killer\";\n",
    "killerRabbit.speak(' mdefne');"
   ]
  },
  {
   "cell_type": "markdown",
   "metadata": {},
   "source": [
    "the protorabbit acts as a class from which killer rabbit derives the basic rabbit qualities"
   ]
  },
  {
   "cell_type": "markdown",
   "metadata": {},
   "source": [
    "## Classes\n",
    "A class defines the methods and properties of an object called instance of the class. A constructor function derives the properties that the instances of a class are supposed to have."
   ]
  },
  {
   "cell_type": "code",
   "execution_count": 11,
   "metadata": {},
   "outputs": [
    {
     "data": {
      "text/plain": [
       "undefined"
      ]
     },
     "execution_count": 11,
     "metadata": {},
     "output_type": "execute_result"
    }
   ],
   "source": [
    "function makerabbit(type) {\n",
    "    let rabbit = Object.create(protoRabbit);\n",
    "    rabbit.type = type;\n",
    "    return rabbit;\n",
    "}"
   ]
  },
  {
   "cell_type": "markdown",
   "metadata": {},
   "source": [
    "In javascript if you put the keyword `new` in front of a function it is treated as a constructor."
   ]
  },
  {
   "cell_type": "code",
   "execution_count": 12,
   "metadata": {},
   "outputs": [
    {
     "data": {
      "text/plain": [
       "[Function (anonymous)]"
      ]
     },
     "execution_count": 12,
     "metadata": {},
     "output_type": "execute_result"
    }
   ],
   "source": [
    "function Rabbit(type) {\n",
    "    this.type = type;\n",
    "}\n",
    "Rabbit.prototype.speak = function(line) {\n",
    "    console.log(`The ${this.type} rabbit says '${line}'`);\n",
    "};\n",
    "let weirdRabbit = new Rabbit(\"weird\");"
   ]
  },
  {
   "cell_type": "code",
   "execution_count": 13,
   "metadata": {},
   "outputs": [
    {
     "name": "stdout",
     "output_type": "stream",
     "text": [
      "The weird rabbit says 'sjnjd'\n"
     ]
    },
    {
     "data": {
      "text/plain": [
       "undefined"
      ]
     },
     "execution_count": 13,
     "metadata": {},
     "output_type": "execute_result"
    }
   ],
   "source": [
    "weirdRabbit.speak('sjnjd');"
   ]
  },
  {
   "cell_type": "markdown",
   "metadata": {},
   "source": [
    "Constructors (all functions, in fact) automatically get a property named prototype , which by default holds a plain, empty object that derives from `Object.prototype` . The actual prototype of a constructor is `Function.prototype` since constructors are functions. Its prototype property holds the prototype used for instances created through it."
   ]
  },
  {
   "cell_type": "code",
   "execution_count": 14,
   "metadata": {},
   "outputs": [
    {
     "name": "stdout",
     "output_type": "stream",
     "text": [
      "true\n",
      "true\n"
     ]
    },
    {
     "data": {
      "text/plain": [
       "undefined"
      ]
     },
     "execution_count": 14,
     "metadata": {},
     "output_type": "execute_result"
    }
   ],
   "source": [
    "console.log(Object.getPrototypeOf(Rabbit) == Function.prototype);\n",
    "console.log(Object.getPrototypeOf(weirdRabbit) == Rabbit.prototype);"
   ]
  },
  {
   "cell_type": "markdown",
   "metadata": {},
   "source": [
    "JS classes are constructor functions with a prototype property."
   ]
  },
  {
   "cell_type": "code",
   "execution_count": 15,
   "metadata": {},
   "outputs": [
    {
     "name": "stdout",
     "output_type": "stream",
     "text": [
      "x=2;y=7\n"
     ]
    },
    {
     "data": {
      "text/plain": [
       "undefined"
      ]
     },
     "execution_count": 15,
     "metadata": {},
     "output_type": "execute_result"
    }
   ],
   "source": [
    "class Vector {\n",
    "    constructor(x,y){\n",
    "        this.x = x ;\n",
    "        this.y = y ;\n",
    "    }\n",
    "    show(){\n",
    "        console.log(`x=${this.x};y=${this.y}`);\n",
    "    }\n",
    "}\n",
    "let arrow = new Vector(2,7);\n",
    "arrow.show()"
   ]
  },
  {
   "cell_type": "markdown",
   "metadata": {},
   "source": [
    "Like function , class can be used both in statements and in expressions. When used as an expression, it doesn’t define a binding but just produces the constructor as a value. You are allowed to omit the class name in a class expression."
   ]
  },
  {
   "cell_type": "code",
   "execution_count": 16,
   "metadata": {},
   "outputs": [
    {
     "name": "stdout",
     "output_type": "stream",
     "text": [
      "hello\n"
     ]
    },
    {
     "data": {
      "text/plain": [
       "undefined"
      ]
     },
     "execution_count": 16,
     "metadata": {},
     "output_type": "execute_result"
    }
   ],
   "source": [
    "let object = new class { getWord() { return \"hello\"; } };\n",
    "console.log(object.getWord());"
   ]
  },
  {
   "cell_type": "markdown",
   "metadata": {},
   "source": [
    "### Overriding the derrived properties"
   ]
  },
  {
   "cell_type": "code",
   "execution_count": 17,
   "metadata": {},
   "outputs": [
    {
     "name": "stdout",
     "output_type": "stream",
     "text": [
      "3.5\n"
     ]
    },
    {
     "data": {
      "text/plain": [
       "undefined"
      ]
     },
     "execution_count": 17,
     "metadata": {},
     "output_type": "execute_result"
    }
   ],
   "source": [
    "Vector.prototype.theta = '3.5' ;\n",
    "console.log(arrow.theta)"
   ]
  },
  {
   "cell_type": "markdown",
   "metadata": {},
   "source": [
    "Overriding is also used to give the standard function and array prototypes a different toString method than the basic object prototype."
   ]
  },
  {
   "cell_type": "code",
   "execution_count": 18,
   "metadata": {},
   "outputs": [
    {
     "name": "stdout",
     "output_type": "stream",
     "text": [
      "false\n"
     ]
    },
    {
     "data": {
      "text/plain": [
       "undefined"
      ]
     },
     "execution_count": 18,
     "metadata": {},
     "output_type": "execute_result"
    }
   ],
   "source": [
    "console.log(Array.prototype.toString == Object.prototype.toString);"
   ]
  },
  {
   "cell_type": "code",
   "execution_count": 19,
   "metadata": {},
   "outputs": [
    {
     "name": "stdout",
     "output_type": "stream",
     "text": [
      "1,2\n",
      "[object Array]\n"
     ]
    },
    {
     "data": {
      "text/plain": [
       "undefined"
      ]
     },
     "execution_count": 19,
     "metadata": {},
     "output_type": "execute_result"
    }
   ],
   "source": [
    "console.log([1, 2].toString());\n",
    "console.log(Object.prototype.toString.call([1, 2]));"
   ]
  },
  {
   "cell_type": "markdown",
   "metadata": {},
   "source": [
    "## Maps\n",
    "A map (noun) is a data structure that associates values (the keys) with other values. Like Dictionaries."
   ]
  },
  {
   "cell_type": "code",
   "execution_count": 20,
   "metadata": {},
   "outputs": [
    {
     "name": "stdout",
     "output_type": "stream",
     "text": [
      "Júlia is 62\n",
      "Is Jack's age known? false\n",
      "Is toString's age known? true\n"
     ]
    },
    {
     "data": {
      "text/plain": [
       "undefined"
      ]
     },
     "execution_count": 20,
     "metadata": {},
     "output_type": "execute_result"
    }
   ],
   "source": [
    "let ages = {\n",
    "    Boris: 39,\n",
    "    Liang: 22,\n",
    "    Júlia: 62\n",
    "};\n",
    "console.log(`Júlia is ${ages[\"Júlia\"]}`);\n",
    "console.log(\"Is Jack's age known?\", \"Jack\" in ages);\n",
    "console.log(\"Is toString's age known?\", \"toString\" in ages);"
   ]
  },
  {
   "cell_type": "markdown",
   "metadata": {},
   "source": [
    "Though there is no toString added to ages , Yet, because plain objects derive from Object.prototype ,it looks like the property is there. <br>\n",
    "As such, using plain objects as maps is dangerous. There are several\n",
    "possible ways to avoid this problem. First, it is possible to create objects with no prototype. If you pass `null` to `Object.create` , the resulting object will not derive from `Object.prototype` and can safely be used as a map."
   ]
  },
  {
   "cell_type": "code",
   "execution_count": 21,
   "metadata": {},
   "outputs": [
    {
     "name": "stdout",
     "output_type": "stream",
     "text": [
      "false\n"
     ]
    },
    {
     "data": {
      "text/plain": [
       "undefined"
      ]
     },
     "execution_count": 21,
     "metadata": {},
     "output_type": "execute_result"
    }
   ],
   "source": [
    "console.log(\"toString\" in Object.create(null));"
   ]
  },
  {
   "cell_type": "markdown",
   "metadata": {},
   "source": [
    "JS's builtin `Map` class allows creation of all kinds of keys."
   ]
  },
  {
   "cell_type": "code",
   "execution_count": 22,
   "metadata": {},
   "outputs": [
    {
     "name": "stdout",
     "output_type": "stream",
     "text": [
      "Júlia is 62\n",
      "Is Jack's age known? false\n",
      "false\n"
     ]
    },
    {
     "data": {
      "text/plain": [
       "undefined"
      ]
     },
     "execution_count": 22,
     "metadata": {},
     "output_type": "execute_result"
    }
   ],
   "source": [
    "let aages = new Map();\n",
    "aages.set(\"Boris\", 39);\n",
    "aages.set(\"Liang\", 22);\n",
    "aages.set(\"Júlia\", 62);\n",
    "console.log(`Júlia is ${aages.get(\"Júlia\")}`);\n",
    "\n",
    "console.log(\"Is Jack's age known?\", aages.has(\"Jack\"));\n",
    "\n",
    "console.log(aages.has(\"toString\"));\n"
   ]
  },
  {
   "cell_type": "markdown",
   "metadata": {},
   "source": [
    "The methods `set` , `get` , and has are part of the interface of the Map object."
   ]
  },
  {
   "cell_type": "code",
   "execution_count": 23,
   "metadata": {},
   "outputs": [
    {
     "data": {
      "text/plain": [
       "[Map Iterator] { 'Boris', 'Liang', 'Júlia' }"
      ]
     },
     "execution_count": 23,
     "metadata": {},
     "output_type": "execute_result"
    }
   ],
   "source": [
    "aages.keys()"
   ]
  },
  {
   "cell_type": "markdown",
   "metadata": {},
   "source": [
    "As an alternative to the `in` operator, you can use the `hasOwnProperty` method, which ignores the object’s prototype."
   ]
  },
  {
   "cell_type": "code",
   "execution_count": 24,
   "metadata": {},
   "outputs": [
    {
     "name": "stdout",
     "output_type": "stream",
     "text": [
      "true\n",
      "false\n",
      "false\n"
     ]
    },
    {
     "data": {
      "text/plain": [
       "undefined"
      ]
     },
     "execution_count": 24,
     "metadata": {},
     "output_type": "execute_result"
    }
   ],
   "source": [
    "console.log({x: 1}.hasOwnProperty(\"x\"));\n",
    "console.log({x: 1}.hasOwnProperty(\"toString\"));\n",
    "console.log(arrow.hasOwnProperty(\"toString\"));"
   ]
  },
  {
   "cell_type": "markdown",
   "metadata": {},
   "source": [
    "## Polymorphism\n",
    "You can also decleare your own version of `toString` for owned objects."
   ]
  },
  {
   "cell_type": "code",
   "execution_count": 25,
   "metadata": {},
   "outputs": [
    {
     "data": {
      "text/plain": [
       "[Function (anonymous)]"
      ]
     },
     "execution_count": 25,
     "metadata": {},
     "output_type": "execute_result"
    }
   ],
   "source": [
    "Vector.prototype.toString = function() {\n",
    "    return `(${this.x},${this.y})`;\n",
    "};"
   ]
  },
  {
   "cell_type": "code",
   "execution_count": 26,
   "metadata": {},
   "outputs": [
    {
     "name": "stdout",
     "output_type": "stream",
     "text": [
      "(2,7)\n"
     ]
    },
    {
     "data": {
      "text/plain": [
       "undefined"
      ]
     },
     "execution_count": 26,
     "metadata": {},
     "output_type": "execute_result"
    }
   ],
   "source": [
    "console.log(String(arrow))"
   ]
  },
  {
   "cell_type": "code",
   "execution_count": 27,
   "metadata": {},
   "outputs": [
    {
     "data": {
      "text/plain": [
       "'object'"
      ]
     },
     "execution_count": 27,
     "metadata": {},
     "output_type": "execute_result"
    }
   ],
   "source": [
    "typeof(arrow)"
   ]
  },
  {
   "cell_type": "code",
   "execution_count": 28,
   "metadata": {},
   "outputs": [
    {
     "data": {
      "text/plain": [
       "'string'"
      ]
     },
     "execution_count": 28,
     "metadata": {},
     "output_type": "execute_result"
    }
   ],
   "source": [
    "typeof(arrow.toString())"
   ]
  },
  {
   "cell_type": "code",
   "execution_count": 29,
   "metadata": {},
   "outputs": [
    {
     "name": "stdout",
     "output_type": "stream",
     "text": [
      "string\n",
      "number\n"
     ]
    },
    {
     "data": {
      "text/plain": [
       "undefined"
      ]
     },
     "execution_count": 29,
     "metadata": {},
     "output_type": "execute_result"
    }
   ],
   "source": [
    "console.log(typeof((7).toString()))\n",
    "console.log(typeof(7))"
   ]
  },
  {
   "cell_type": "markdown",
   "metadata": {},
   "source": [
    "## Symbols\n",
    "Property names can also be symbols. created using `Symbol`"
   ]
  },
  {
   "cell_type": "code",
   "execution_count": 30,
   "metadata": {},
   "outputs": [
    {
     "name": "stdout",
     "output_type": "stream",
     "text": [
      "false\n"
     ]
    },
    {
     "data": {
      "text/plain": [
       "undefined"
      ]
     },
     "execution_count": 30,
     "metadata": {},
     "output_type": "execute_result"
    }
   ],
   "source": [
    "let sym  = Symbol(\"name\");\n",
    "console.log(sym == Symbol(\"name\"))"
   ]
  },
  {
   "cell_type": "markdown",
   "metadata": {},
   "source": [
    "````javascript\n",
    "Rabbit.prototype[sym] = 55;\n",
    "console.log(wierdRabbit[sym]);\n",
    "````\n",
    "Should have worked"
   ]
  },
  {
   "cell_type": "code",
   "execution_count": 34,
   "metadata": {},
   "outputs": [
    {
     "data": {
      "text/plain": [
       "Symbol(name)"
      ]
     },
     "execution_count": 34,
     "metadata": {},
     "output_type": "execute_result"
    }
   ],
   "source": [
    "sym"
   ]
  },
  {
   "cell_type": "code",
   "execution_count": 35,
   "metadata": {},
   "outputs": [
    {
     "data": {
      "text/plain": [
       "'symbol'"
      ]
     },
     "execution_count": 35,
     "metadata": {},
     "output_type": "execute_result"
    }
   ],
   "source": [
    "typeof(sym)"
   ]
  },
  {
   "cell_type": "code",
   "execution_count": 36,
   "metadata": {},
   "outputs": [
    {
     "data": {
      "text/plain": [
       "[Function (anonymous)]"
      ]
     },
     "execution_count": 36,
     "metadata": {},
     "output_type": "execute_result"
    }
   ],
   "source": [
    "const toStringSymbol = Symbol(\"toString\");\n",
    "Array.prototype[toStringSymbol] = function() {\n",
    "    return `${this.length} cm of blue yarn`;\n",
    "};"
   ]
  },
  {
   "cell_type": "code",
   "execution_count": 37,
   "metadata": {},
   "outputs": [
    {
     "name": "stdout",
     "output_type": "stream",
     "text": [
      "1,2\n",
      "2 cm of blue yarn\n"
     ]
    },
    {
     "data": {
      "text/plain": [
       "undefined"
      ]
     },
     "execution_count": 37,
     "metadata": {},
     "output_type": "execute_result"
    }
   ],
   "source": [
    "console.log([1, 2].toString());\n",
    "console.log([1, 2][toStringSymbol]());"
   ]
  },
  {
   "cell_type": "markdown",
   "metadata": {},
   "source": [
    "It is possible to include symbol properties in object expressions and\n",
    "classes by using square brackets around the property name. That causes the\n",
    "property name to be evaluated, much like the square bracket property access\n",
    "notation, which allows us to refer to a binding that holds the symbol."
   ]
  },
  {
   "cell_type": "code",
   "execution_count": 46,
   "metadata": {},
   "outputs": [
    {
     "name": "stdout",
     "output_type": "stream",
     "text": [
      "a jute rope\n"
     ]
    },
    {
     "data": {
      "text/plain": [
       "undefined"
      ]
     },
     "execution_count": 46,
     "metadata": {},
     "output_type": "execute_result"
    }
   ],
   "source": [
    "let stringObject = {\n",
    "    [toStringSymbol](){return \"a jute rope\";}    \n",
    "};\n",
    "console.log(stringObject[toStringSymbol]())"
   ]
  },
  {
   "cell_type": "markdown",
   "metadata": {},
   "source": [
    "## Iterator interface\n",
    "The object given to a for / of loop is expected to be iterable. This means it has a method named with the `Symbol.iterator` symbol (a symbol value defined by the language, stored as a property of the Symbol function)\n",
    "When called, that method should return an object that provides a second interface, `iterator`. This is the actual thing that iterates. It has a `next` method that returns the next result. That result should be an object with a value property that provides the next value, if there is one, and a `done` property, which should be true when there are no more results and false otherwise."
   ]
  },
  {
   "cell_type": "code",
   "execution_count": 1,
   "metadata": {},
   "outputs": [
    {
     "name": "stdout",
     "output_type": "stream",
     "text": [
      "{ value: 'O', done: false }\n",
      "{ value: 'K', done: false }\n",
      "{ value: undefined, done: true }\n"
     ]
    },
    {
     "data": {
      "text/plain": [
       "undefined"
      ]
     },
     "execution_count": 1,
     "metadata": {},
     "output_type": "execute_result"
    }
   ],
   "source": [
    "let okIterator = \"OK\"[Symbol.iterator]();\n",
    "console.log(okIterator.next());\n",
    "// → {value: \"O\", done: false}\n",
    "console.log(okIterator.next());\n",
    "// → {value: \"K\", done: false}\n",
    "console.log(okIterator.next());\n",
    "// → {value: undefined, done: true}"
   ]
  },
  {
   "cell_type": "code",
   "execution_count": 8,
   "metadata": {},
   "outputs": [
    {
     "data": {
      "text/plain": [
       "{ value: 'a', done: false }"
      ]
     },
     "execution_count": 8,
     "metadata": {},
     "output_type": "execute_result"
    }
   ],
   "source": [
    "\"apple\"[Symbol.iterator]().next()"
   ]
  },
  {
   "cell_type": "markdown",
   "metadata": {},
   "source": [
    "How many times u run ^ command it will say just the same thing. Therefore the iterator needs to have a name it has to be objectified like: "
   ]
  },
  {
   "cell_type": "code",
   "execution_count": 9,
   "metadata": {},
   "outputs": [
    {
     "data": {
      "text/plain": [
       "undefined"
      ]
     },
     "execution_count": 9,
     "metadata": {},
     "output_type": "execute_result"
    }
   ],
   "source": [
    "let AA =\"apple\"[Symbol.iterator]()"
   ]
  },
  {
   "cell_type": "code",
   "execution_count": 13,
   "metadata": {},
   "outputs": [
    {
     "data": {
      "text/plain": [
       "{ value: 'e', done: false }"
      ]
     },
     "execution_count": 13,
     "metadata": {},
     "output_type": "execute_result"
    }
   ],
   "source": [
    "AA.next()"
   ]
  },
  {
   "cell_type": "markdown",
   "metadata": {},
   "source": [
    "Running this ^ many times gives different results."
   ]
  },
  {
   "cell_type": "markdown",
   "metadata": {},
   "source": [
    "## Example:\n",
    "Let us build a _matrix_ class as an iterable data structure. "
   ]
  },
  {
   "cell_type": "code",
   "execution_count": 15,
   "metadata": {},
   "outputs": [
    {
     "data": {
      "text/plain": [
       "undefined"
      ]
     },
     "execution_count": 15,
     "metadata": {},
     "output_type": "execute_result"
    }
   ],
   "source": [
    "class Matrix{\n",
    "    // the constructor\n",
    "    constructor(w,h,element = (x,y) => undefined){\n",
    "        // => undefined means that if ther is no x,y defined\n",
    "        // its undefined.\n",
    "        this.w = w;\n",
    "        this.h = h;\n",
    "        this.content = [];\n",
    "        \n",
    "        for(let y=0; y<h; y++){\n",
    "            for(let x=0; x<w; x++){\n",
    "                this.content[y*w+x] = element(x,y);\n",
    "            }\n",
    "        }\n",
    "    }\n",
    "    get(x,y){\n",
    "        return this.content[y*this.w +x] ;\n",
    "    }\n",
    "    \n",
    "    set(x,y,val){\n",
    "        this.content[y*this.w + x] = val;        \n",
    "    }   \n",
    "}"
   ]
  },
  {
   "cell_type": "code",
   "execution_count": 22,
   "metadata": {},
   "outputs": [
    {
     "ename": "SyntaxError",
     "evalue": "Identifier 'MatrixIterator' has already been declared",
     "output_type": "error",
     "traceback": [
      "evalmachine.<anonymous>:1",
      "class MatrixIterator{",
      "^",
      "",
      "SyntaxError: Identifier 'MatrixIterator' has already been declared",
      "    at Script.runInThisContext (node:vm:132:18)",
      "    at Object.runInThisContext (node:vm:309:38)",
      "    at run ([eval]:1054:15)",
      "    at onRunRequest ([eval]:888:18)",
      "    at onMessage ([eval]:848:13)",
      "    at process.emit (node:events:329:20)",
      "    at emit (node:internal/child_process:910:12)",
      "    at processTicksAndRejections (node:internal/process/task_queues:81:21)"
     ]
    }
   ],
   "source": [
    "//The above Matrix cannot be iterated in a for loop unless we declare a\n",
    "//the name should be as : <classname>Iterator \n",
    "class MatrixIterator{\n",
    "    constructor(matrix){\n",
    "        this.x=0;\n",
    "        this.y=0;\n",
    "        this.matrix = matrix; \n",
    "    }\n",
    "    next(){\n",
    "        // starts by checking if it has reached the last line\n",
    "        if(this.y==this.matrix.h) return {done: true};\n",
    "        //else\n",
    "        let value = {\n",
    "            x: this.x,\n",
    "            y: this.y,\n",
    "            value: this.matrix.get(this.x,this.y)};\n",
    "        this.x++;\n",
    "        if (this.x == this.matrix.w){\n",
    "            this.x=0;\n",
    "            this.y++;\n",
    "        }\n",
    "        return {value, done:false}\n",
    "    }\n",
    "}"
   ]
  },
  {
   "cell_type": "code",
   "execution_count": 23,
   "metadata": {},
   "outputs": [
    {
     "data": {
      "text/plain": [
       "[Function (anonymous)]"
      ]
     },
     "execution_count": 23,
     "metadata": {},
     "output_type": "execute_result"
    }
   ],
   "source": [
    "Matrix.prototype[Symbol.iterator] = function() {\n",
    "    return new MatrixIterator(this);\n",
    "};"
   ]
  },
  {
   "cell_type": "code",
   "execution_count": 24,
   "metadata": {},
   "outputs": [
    {
     "name": "stdout",
     "output_type": "stream",
     "text": [
      "0 0 value 0,0\n",
      "1 0 value 1,0\n",
      "0 1 value 0,1\n",
      "1 1 value 1,1\n"
     ]
    },
    {
     "data": {
      "text/plain": [
       "undefined"
      ]
     },
     "execution_count": 24,
     "metadata": {},
     "output_type": "execute_result"
    }
   ],
   "source": [
    "let matrix = new Matrix(2, 2, (x, y) => `value ${x},${y}`);\n",
    "for (let {x, y, value} of matrix) {\n",
    "    console.log(x, y, value);\n",
    "}"
   ]
  },
  {
   "cell_type": "markdown",
   "metadata": {},
   "source": [
    "## getters, setters and statics.\n",
    "getters are defined by writing `get` in class decleration."
   ]
  },
  {
   "cell_type": "code",
   "execution_count": 25,
   "metadata": {},
   "outputs": [
    {
     "data": {
      "text/plain": [
       "undefined"
      ]
     },
     "execution_count": 25,
     "metadata": {},
     "output_type": "execute_result"
    }
   ],
   "source": [
    "let varyingSize = {\n",
    "    get size() {\n",
    "        return Math.floor(Math.random()*100)\n",
    "    }    \n",
    "};"
   ]
  },
  {
   "cell_type": "code",
   "execution_count": 32,
   "metadata": {},
   "outputs": [
    {
     "data": {
      "text/plain": [
       "34"
      ]
     },
     "execution_count": 32,
     "metadata": {},
     "output_type": "execute_result"
    }
   ],
   "source": [
    "varyingSize.size"
   ]
  },
  {
   "cell_type": "markdown",
   "metadata": {},
   "source": [
    "To write some value to a property use :`set`"
   ]
  },
  {
   "cell_type": "code",
   "execution_count": 33,
   "metadata": {},
   "outputs": [
    {
     "data": {
      "text/plain": [
       "undefined"
      ]
     },
     "execution_count": 33,
     "metadata": {},
     "output_type": "execute_result"
    }
   ],
   "source": [
    "class Temperature{\n",
    "    constructor(temp){\n",
    "        this.temp = temp;\n",
    "    }\n",
    "    get tempF(){\n",
    "        return this.temp*1.8 + 32;\n",
    "    }\n",
    "    \n",
    "    set tempF(F){\n",
    "        this.temp = (F-32)/1.8;\n",
    "    }\n",
    "    \n",
    "    static fromtempF(val){\n",
    "        return new Temperature((val-32)/1.8);\n",
    "    }\n",
    "}"
   ]
  },
  {
   "cell_type": "code",
   "execution_count": 34,
   "metadata": {},
   "outputs": [
    {
     "name": "stdout",
     "output_type": "stream",
     "text": [
      "71.6\n"
     ]
    },
    {
     "data": {
      "text/plain": [
       "undefined"
      ]
     },
     "execution_count": 34,
     "metadata": {},
     "output_type": "execute_result"
    }
   ],
   "source": [
    "let temp = new Temperature(22);\n",
    "console.log(temp.tempF)"
   ]
  },
  {
   "cell_type": "code",
   "execution_count": 39,
   "metadata": {},
   "outputs": [
    {
     "name": "stdout",
     "output_type": "stream",
     "text": [
      "21.999999999999996\n"
     ]
    },
    {
     "data": {
      "text/plain": [
       "undefined"
      ]
     },
     "execution_count": 39,
     "metadata": {},
     "output_type": "execute_result"
    }
   ],
   "source": [
    "temp.tempF = 71.6\n",
    "console.log(temp.temp)"
   ]
  },
  {
   "cell_type": "markdown",
   "metadata": {},
   "source": [
    "Also an example of operator overloding where tempF act as both a setter and a getter. "
   ]
  },
  {
   "cell_type": "markdown",
   "metadata": {},
   "source": [
    "## Inheritance\n",
    "JavaScript’s `prototype` system makes it possible to create a new class, much like the old class, but with new definitions for some of its properties. The prototype for the new class derives from the old prototype but adds a new definition for, say, the set method. In object-oriented programming terms, this is called `inheritance`. The\n",
    "new class inherits properties and behavior from the old class."
   ]
  },
  {
   "cell_type": "code",
   "execution_count": 40,
   "metadata": {},
   "outputs": [
    {
     "data": {
      "text/plain": [
       "undefined"
      ]
     },
     "execution_count": 40,
     "metadata": {},
     "output_type": "execute_result"
    }
   ],
   "source": [
    "class SymmetricMatrix extends Matrix{\n",
    "    constructor(size,element=(x,y)=> undefined){\n",
    "        super(size,size,(x,y) => {\n",
    "           if (x<y) return element(y,x);\n",
    "            else return element(x,y);\n",
    "        });\n",
    "    }\n",
    "    \n",
    "    set(x,y,val){\n",
    "        super.set(x,y,val);\n",
    "        if(x!=y){\n",
    "            super.set(y,x,val);\n",
    "        }\n",
    "    }\n",
    "}"
   ]
  },
  {
   "cell_type": "code",
   "execution_count": 42,
   "metadata": {},
   "outputs": [
    {
     "name": "stdout",
     "output_type": "stream",
     "text": [
      "undefined\n"
     ]
    },
    {
     "data": {
      "text/plain": [
       "undefined"
      ]
     },
     "execution_count": 42,
     "metadata": {},
     "output_type": "execute_result"
    }
   ],
   "source": [
    "let ssmatrix = new SymmetricMatrix(5, (x, y) => `${x},${y}`);"
   ]
  },
  {
   "cell_type": "code",
   "execution_count": 43,
   "metadata": {},
   "outputs": [
    {
     "name": "stdout",
     "output_type": "stream",
     "text": [
      "3,2\n"
     ]
    },
    {
     "data": {
      "text/plain": [
       "undefined"
      ]
     },
     "execution_count": 43,
     "metadata": {},
     "output_type": "execute_result"
    }
   ],
   "source": [
    "console.log(ssmatrix.get(2, 3));"
   ]
  },
  {
   "cell_type": "code",
   "execution_count": null,
   "metadata": {},
   "outputs": [],
   "source": []
  },
  {
   "cell_type": "code",
   "execution_count": null,
   "metadata": {},
   "outputs": [],
   "source": []
  },
  {
   "cell_type": "code",
   "execution_count": null,
   "metadata": {},
   "outputs": [],
   "source": []
  },
  {
   "cell_type": "code",
   "execution_count": null,
   "metadata": {},
   "outputs": [],
   "source": []
  },
  {
   "cell_type": "code",
   "execution_count": null,
   "metadata": {},
   "outputs": [],
   "source": []
  },
  {
   "cell_type": "code",
   "execution_count": null,
   "metadata": {},
   "outputs": [],
   "source": []
  }
 ],
 "metadata": {
  "kernelspec": {
   "display_name": "Javascript (Node.js)",
   "language": "javascript",
   "name": "javascript"
  },
  "language_info": {
   "file_extension": ".js",
   "mimetype": "application/javascript",
   "name": "javascript",
   "version": "15.2.1"
  }
 },
 "nbformat": 4,
 "nbformat_minor": 4
}
