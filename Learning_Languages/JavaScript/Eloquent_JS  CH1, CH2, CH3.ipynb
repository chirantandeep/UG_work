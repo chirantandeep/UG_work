{
 "cells": [
  {
   "cell_type": "markdown",
   "metadata": {},
   "source": [
    "# CH1 VALUES, TYPES, AND OPERATORS"
   ]
  },
  {
   "cell_type": "code",
   "execution_count": 1,
   "metadata": {},
   "outputs": [
    {
     "data": {
      "text/plain": [
       "NaN"
      ]
     },
     "execution_count": 1,
     "metadata": {},
     "output_type": "execute_result"
    }
   ],
   "source": [
    "Infinity -Infinity"
   ]
  },
  {
   "cell_type": "code",
   "execution_count": 2,
   "metadata": {},
   "outputs": [
    {
     "name": "stdout",
     "output_type": "stream",
     "text": [
      "number\n"
     ]
    },
    {
     "data": {
      "text/plain": [
       "undefined"
      ]
     },
     "execution_count": 2,
     "metadata": {},
     "output_type": "execute_result"
    }
   ],
   "source": [
    "console.log(typeof 4.5)"
   ]
  },
  {
   "cell_type": "code",
   "execution_count": 3,
   "metadata": {},
   "outputs": [
    {
     "name": "stdout",
     "output_type": "stream",
     "text": [
      "true\n"
     ]
    },
    {
     "data": {
      "text/plain": [
       "undefined"
      ]
     },
     "execution_count": 3,
     "metadata": {},
     "output_type": "execute_result"
    }
   ],
   "source": [
    "console.log(\"Aardvark\" < \"Zoroaster\")"
   ]
  },
  {
   "cell_type": "code",
   "execution_count": 4,
   "metadata": {},
   "outputs": [
    {
     "name": "stdout",
     "output_type": "stream",
     "text": [
      "false\n",
      "true\n"
     ]
    },
    {
     "data": {
      "text/plain": [
       "undefined"
      ]
     },
     "execution_count": 4,
     "metadata": {},
     "output_type": "execute_result"
    }
   ],
   "source": [
    "console.log(true && false)\n",
    "console.log(false || true)"
   ]
  },
  {
   "cell_type": "code",
   "execution_count": 5,
   "metadata": {},
   "outputs": [
    {
     "data": {
      "text/plain": [
       "true"
      ]
     },
     "execution_count": 5,
     "metadata": {},
     "output_type": "execute_result"
    }
   ],
   "source": [
    "1 + 1 == 2 && 10 * 10 > 50"
   ]
  },
  {
   "cell_type": "markdown",
   "metadata": {},
   "source": [
    "#### A ternary operator :"
   ]
  },
  {
   "cell_type": "code",
   "execution_count": 6,
   "metadata": {},
   "outputs": [
    {
     "name": "stdout",
     "output_type": "stream",
     "text": [
      "1\n",
      "2\n"
     ]
    },
    {
     "data": {
      "text/plain": [
       "undefined"
      ]
     },
     "execution_count": 6,
     "metadata": {},
     "output_type": "execute_result"
    }
   ],
   "source": [
    "console.log(true ? 1 : 2);\n",
    "console.log(false ? 1 : 2);"
   ]
  },
  {
   "cell_type": "code",
   "execution_count": 7,
   "metadata": {},
   "outputs": [
    {
     "data": {
      "text/plain": [
       "null"
      ]
     },
     "execution_count": 7,
     "metadata": {},
     "output_type": "execute_result"
    }
   ],
   "source": [
    "undefined\n",
    "null"
   ]
  },
  {
   "cell_type": "markdown",
   "metadata": {},
   "source": [
    "## Automatic Type Conversion"
   ]
  },
  {
   "cell_type": "code",
   "execution_count": 8,
   "metadata": {},
   "outputs": [
    {
     "name": "stdout",
     "output_type": "stream",
     "text": [
      "0\n",
      "4\n",
      "51\n",
      "NaN\n",
      "true\n"
     ]
    },
    {
     "data": {
      "text/plain": [
       "undefined"
      ]
     },
     "execution_count": 8,
     "metadata": {},
     "output_type": "execute_result"
    }
   ],
   "source": [
    "console.log(8 * null);\n",
    "console.log(\"5\" - 1);\n",
    "console.log(\"5\" + 1);\n",
    "console.log(\"five\" * 2);\n",
    "console.log(false == 0)"
   ]
  },
  {
   "cell_type": "markdown",
   "metadata": {},
   "source": [
    "When an operator is applied to the “wrong” type of value, JavaScript will\n",
    "quietly convert that value to the type it needs, using a set of rules that often\n",
    "aren’t what you want or expect. This is called **type coercion**."
   ]
  },
  {
   "cell_type": "code",
   "execution_count": 9,
   "metadata": {},
   "outputs": [
    {
     "name": "stdout",
     "output_type": "stream",
     "text": [
      "true\n",
      "false\n",
      "true\n"
     ]
    },
    {
     "data": {
      "text/plain": [
       "undefined"
      ]
     },
     "execution_count": 9,
     "metadata": {},
     "output_type": "execute_result"
    }
   ],
   "source": [
    "console.log(null == undefined);\n",
    "console.log(null == 0);\n",
    "console.log(9 != null);"
   ]
  },
  {
   "cell_type": "markdown",
   "metadata": {},
   "source": [
    "## Short-Circuiting of Logical Operators"
   ]
  },
  {
   "cell_type": "markdown",
   "metadata": {},
   "source": [
    "The logical operators && and || handle values of different types in a peculiar\n",
    "way. They will convert the value on their left side to Boolean type in order\n",
    "to decide what to do, but depending on the operator and the result of that conversion, they will return either the original left-hand value or the right-\n",
    "hand value."
   ]
  },
  {
   "cell_type": "code",
   "execution_count": 10,
   "metadata": {},
   "outputs": [
    {
     "name": "stdout",
     "output_type": "stream",
     "text": [
      "user\n",
      "Agnes\n"
     ]
    },
    {
     "data": {
      "text/plain": [
       "undefined"
      ]
     },
     "execution_count": 10,
     "metadata": {},
     "output_type": "execute_result"
    }
   ],
   "source": [
    "console.log( null || \"user\");\n",
    "console.log(\"Agnes\" || \"user\");"
   ]
  },
  {
   "cell_type": "markdown",
   "metadata": {},
   "source": [
    "The rules for converting strings and numbers to _Boolean values state that 0 , NaN , and the empty string ( \"\" ) count as false_ , while all the other values count as true. The above property can be used to have a default valur to a variable if its null."
   ]
  },
  {
   "cell_type": "code",
   "execution_count": 11,
   "metadata": {},
   "outputs": [
    {
     "name": "stdout",
     "output_type": "stream",
     "text": [
      "not null\n",
      "Default\n"
     ]
    },
    {
     "data": {
      "text/plain": [
       "undefined"
      ]
     },
     "execution_count": 11,
     "metadata": {},
     "output_type": "execute_result"
    }
   ],
   "source": [
    "console.log( 'not null' || \"Default\")\n",
    "console.log( null || \"Default\")"
   ]
  },
  {
   "cell_type": "markdown",
   "metadata": {},
   "source": [
    "Another important property of these two operators is that the part to their right is evaluated only when necessary. In the case of true || X , no matter what X is, even if it’s a piece of program that does something terrible—the result will be true, and X is never evaluated. The same goes for false && X, which is false and will ignore X . This is called **short-circuit evaluation**."
   ]
  },
  {
   "cell_type": "markdown",
   "metadata": {},
   "source": [
    "# CH2 PROGRAM STRUCTURE"
   ]
  },
  {
   "cell_type": "markdown",
   "metadata": {},
   "source": [
    "A fragment of code that produces a value is called an **expression**. It could display something on the screen—that counts as changing the world—or it could change the internal state of the machine in a way that will affect the statements that come after it. These changes are called **side effects**.<br>\n",
    "To catch and hold values, JavaScript provides a thing called a **binding**, or variable:"
   ]
  },
  {
   "cell_type": "code",
   "execution_count": 12,
   "metadata": {},
   "outputs": [
    {
     "name": "stdout",
     "output_type": "stream",
     "text": [
      "25\n"
     ]
    },
    {
     "data": {
      "text/plain": [
       "undefined"
      ]
     },
     "execution_count": 12,
     "metadata": {},
     "output_type": "execute_result"
    }
   ],
   "source": [
    "let caught = 5 * 5;\n",
    "console.log(caught)"
   ]
  },
  {
   "cell_type": "markdown",
   "metadata": {},
   "source": [
    "That’s a second kind of statement. The special word (keyword) `let` indicates that this sentence is going to define a binding. It is followed by the name of the binding and, if we want to immediately give it a value, by an = operator and an expression."
   ]
  },
  {
   "cell_type": "code",
   "execution_count": 13,
   "metadata": {},
   "outputs": [
    {
     "name": "stdout",
     "output_type": "stream",
     "text": [
      "100\n"
     ]
    },
    {
     "data": {
      "text/plain": [
       "undefined"
      ]
     },
     "execution_count": 13,
     "metadata": {},
     "output_type": "execute_result"
    }
   ],
   "source": [
    "let ten = 10;\n",
    "console.log(ten * ten);"
   ]
  },
  {
   "cell_type": "markdown",
   "metadata": {},
   "source": [
    "### Examples:"
   ]
  },
  {
   "cell_type": "code",
   "execution_count": 14,
   "metadata": {},
   "outputs": [
    {
     "name": "stdout",
     "output_type": "stream",
     "text": [
      "105\n",
      "3\n",
      "Hello Ayda\n"
     ]
    },
    {
     "data": {
      "text/plain": [
       "undefined"
      ]
     },
     "execution_count": 14,
     "metadata": {},
     "output_type": "execute_result"
    }
   ],
   "source": [
    "let luigisDebt = 140;\n",
    "luigisDebt = luigisDebt - 35;\n",
    "console.log(luigisDebt);\n",
    "\n",
    "let one = 1, two = 2;\n",
    "console.log(one + two);\n",
    "\n",
    "var name = \"Ayda\";\n",
    "const greeting = \"Hello \";\n",
    "console.log(greeting + name);"
   ]
  },
  {
   "cell_type": "markdown",
   "metadata": {},
   "source": [
    "`var` (short for “variable”), is the way bindings were declared in pre-2015 JavaScript. The word `const` stands for constant. It defines a constant binding, which points at the same value for as long as it lives.\n",
    "\n",
    "Some keywords: `break case catch class const continue debugger default delete do else enum export extends false finally for function if implements import interface in instanceof let new package private protected public return static super switch this throw true try typeof var void while with yield` \n",
    "\n",
    "The collection of bindings and their values that exist at a given time is called the **environment**. A **function** is a piece of program wrapped in a value. Such values can be applied in order to run the wrapped program. Executing a function is called invoking, calling, or applying it. You can call a function by putting parentheses after an expression that produces a function value. Values given to functions are called arguments."
   ]
  },
  {
   "cell_type": "markdown",
   "metadata": {},
   "source": [
    "#### Return Values"
   ]
  },
  {
   "cell_type": "code",
   "execution_count": 15,
   "metadata": {},
   "outputs": [
    {
     "name": "stdout",
     "output_type": "stream",
     "text": [
      "4\n",
      "102\n"
     ]
    },
    {
     "data": {
      "text/plain": [
       "undefined"
      ]
     },
     "execution_count": 15,
     "metadata": {},
     "output_type": "execute_result"
    }
   ],
   "source": [
    "console.log(Math.max(2, 4));\n",
    "console.log(Math.min(2, 4) + 100);"
   ]
  },
  {
   "cell_type": "markdown",
   "metadata": {},
   "source": [
    "## Conditional Execution"
   ]
  },
  {
   "cell_type": "code",
   "execution_count": 16,
   "metadata": {},
   "outputs": [
    {
     "name": "stdout",
     "output_type": "stream",
     "text": [
      "Your number is the square root of 81\n"
     ]
    },
    {
     "data": {
      "text/plain": [
       "undefined"
      ]
     },
     "execution_count": 16,
     "metadata": {},
     "output_type": "execute_result"
    }
   ],
   "source": [
    "let theNum = 9;\n",
    "if (!Number.isNaN(theNum)) {\n",
    "    console.log(\"Your number is the square root of \" +\n",
    "                theNum * theNum);\n",
    "}"
   ]
  },
  {
   "cell_type": "code",
   "execution_count": 17,
   "metadata": {},
   "outputs": [
    {
     "name": "stdout",
     "output_type": "stream",
     "text": [
      "Medium\n"
     ]
    },
    {
     "data": {
      "text/plain": [
       "undefined"
      ]
     },
     "execution_count": 17,
     "metadata": {},
     "output_type": "execute_result"
    }
   ],
   "source": [
    "let num = 22;\n",
    "if (num < 10) {\n",
    "    console.log(\"Small\");\n",
    "} else if (num < 100) {\n",
    "    console.log(\"Medium\");\n",
    "} else {\n",
    "    console.log(\"Large\");\n",
    "}"
   ]
  },
  {
   "cell_type": "markdown",
   "metadata": {},
   "source": [
    "## While and Do loops"
   ]
  },
  {
   "cell_type": "code",
   "execution_count": 18,
   "metadata": {},
   "outputs": [
    {
     "name": "stdout",
     "output_type": "stream",
     "text": [
      "0\n",
      "2\n",
      "4\n",
      "6\n",
      "8\n",
      "10\n",
      "12\n"
     ]
    },
    {
     "data": {
      "text/plain": [
       "14"
      ]
     },
     "execution_count": 18,
     "metadata": {},
     "output_type": "execute_result"
    }
   ],
   "source": [
    "let number = 0;\n",
    "while (number <= 12) {\n",
    "    console.log(number);\n",
    "    number = number + 2;\n",
    "}"
   ]
  },
  {
   "cell_type": "code",
   "execution_count": 19,
   "metadata": {},
   "outputs": [
    {
     "name": "stdout",
     "output_type": "stream",
     "text": [
      "1024\n"
     ]
    },
    {
     "data": {
      "text/plain": [
       "undefined"
      ]
     },
     "execution_count": 19,
     "metadata": {},
     "output_type": "execute_result"
    }
   ],
   "source": [
    "let result = 1;\n",
    "let counter = 0;\n",
    "while (counter < 10) {\n",
    "    result = result * 2;\n",
    "    counter = counter + 1;\n",
    "}\n",
    "console.log(result);"
   ]
  },
  {
   "cell_type": "markdown",
   "metadata": {},
   "source": [
    "## For loops"
   ]
  },
  {
   "cell_type": "code",
   "execution_count": 20,
   "metadata": {},
   "outputs": [
    {
     "name": "stdout",
     "output_type": "stream",
     "text": [
      "0\n",
      "2\n",
      "4\n",
      "6\n",
      "8\n",
      "10\n",
      "12\n"
     ]
    },
    {
     "data": {
      "text/plain": [
       "undefined"
      ]
     },
     "execution_count": 20,
     "metadata": {},
     "output_type": "execute_result"
    }
   ],
   "source": [
    "for (let number = 0; number <= 12; number = number + 2) {\n",
    "    console.log(number);\n",
    "}"
   ]
  },
  {
   "cell_type": "code",
   "execution_count": 21,
   "metadata": {},
   "outputs": [
    {
     "name": "stdout",
     "output_type": "stream",
     "text": [
      "1024\n"
     ]
    },
    {
     "data": {
      "text/plain": [
       "undefined"
      ]
     },
     "execution_count": 21,
     "metadata": {},
     "output_type": "execute_result"
    }
   ],
   "source": [
    "let resul = 1;\n",
    "for (let counter = 0; counter < 10; counter = counter + 1) {\n",
    "    resul = resul * 2;\n",
    "}\n",
    "console.log(resul);"
   ]
  },
  {
   "cell_type": "markdown",
   "metadata": {},
   "source": [
    "### Breaking Out of a Loop"
   ]
  },
  {
   "cell_type": "code",
   "execution_count": 22,
   "metadata": {},
   "outputs": [
    {
     "name": "stdout",
     "output_type": "stream",
     "text": [
      "21\n"
     ]
    },
    {
     "data": {
      "text/plain": [
       "undefined"
      ]
     },
     "execution_count": 22,
     "metadata": {},
     "output_type": "execute_result"
    }
   ],
   "source": [
    "for (let current = 17; ; current = current + 1) {\n",
    "if (current % 7 == 0) { console.log(current);\n",
    "break;}}"
   ]
  },
  {
   "cell_type": "markdown",
   "metadata": {},
   "source": [
    "The continue keyword is similar to break , in that it influences the progress of a loop. When continue is encountered in a loop body, control jumps out of the body and continues with the loop’s next iteration."
   ]
  },
  {
   "cell_type": "markdown",
   "metadata": {},
   "source": [
    "## Switch"
   ]
  },
  {
   "cell_type": "code",
   "execution_count": 23,
   "metadata": {},
   "outputs": [
    {
     "name": "stdout",
     "output_type": "stream",
     "text": [
      "Remember to bring an umbrella.\n"
     ]
    },
    {
     "data": {
      "text/plain": [
       "undefined"
      ]
     },
     "execution_count": 23,
     "metadata": {},
     "output_type": "execute_result"
    }
   ],
   "source": [
    "switch (\"rainy\" /*or a variable*/) {\n",
    "    case \"rainy\":\n",
    "        console.log(\"Remember to bring an umbrella.\");\n",
    "        break;\n",
    "    case \"sunny\":\n",
    "        console.log(\"Dress lightly.\");\n",
    "        break;\n",
    "    case \"cloudy\":\n",
    "        console.log(\"Go outside.\");\n",
    "        break;\n",
    "    default:\n",
    "        console.log(\"Unknown weather type!\");\n",
    "        break;\n",
    "}\n",
    "// and these are comments\n",
    "/*like C++*/"
   ]
  },
  {
   "cell_type": "code",
   "execution_count": 24,
   "metadata": {},
   "outputs": [
    {
     "name": "stdout",
     "output_type": "stream",
     "text": [
      "#\n",
      "##\n",
      "###\n",
      "####\n",
      "#####\n",
      "######\n",
      "#######\n"
     ]
    },
    {
     "data": {
      "text/plain": [
       "undefined"
      ]
     },
     "execution_count": 24,
     "metadata": {},
     "output_type": "execute_result"
    }
   ],
   "source": [
    "for (let line = \"#\"; line.length < 8; line += \"#\")\n",
    "  console.log(line);"
   ]
  },
  {
   "cell_type": "code",
   "execution_count": 25,
   "metadata": {},
   "outputs": [
    {
     "name": "stdout",
     "output_type": "stream",
     "text": [
      " # # # #\n",
      "# # # # \n",
      " # # # #\n",
      "# # # # \n",
      " # # # #\n",
      "# # # # \n",
      " # # # #\n",
      "# # # # \n",
      "\n"
     ]
    },
    {
     "data": {
      "text/plain": [
       "undefined"
      ]
     },
     "execution_count": 25,
     "metadata": {},
     "output_type": "execute_result"
    }
   ],
   "source": [
    "let size = 8;\n",
    "let board = \"\";\n",
    "for (let y = 0; y < size; y++) {\n",
    "  for (let x = 0; x < size; x++) {\n",
    "    if ((x + y) % 2 == 0) {\n",
    "      board += \" \";\n",
    "    } else {\n",
    "      board += \"#\";\n",
    "    }\n",
    "  }\n",
    "  board += \"\\n\";\n",
    "}\n",
    "console.log(board);"
   ]
  },
  {
   "cell_type": "markdown",
   "metadata": {},
   "source": [
    "## CH3 FUNCTIONS\n",
    "A function definition is a regular binding where the value of the binding is a function."
   ]
  },
  {
   "cell_type": "code",
   "execution_count": 26,
   "metadata": {},
   "outputs": [
    {
     "name": "stdout",
     "output_type": "stream",
     "text": [
      "144\n"
     ]
    },
    {
     "data": {
      "text/plain": [
       "undefined"
      ]
     },
     "execution_count": 26,
     "metadata": {},
     "output_type": "execute_result"
    }
   ],
   "source": [
    "const square = function(x) {\n",
    "    return x * x;\n",
    "};\n",
    "console.log(square(12));"
   ]
  },
  {
   "cell_type": "code",
   "execution_count": 27,
   "metadata": {},
   "outputs": [
    {
     "name": "stdout",
     "output_type": "stream",
     "text": [
      "Pling!\n",
      "1024\n"
     ]
    },
    {
     "data": {
      "text/plain": [
       "undefined"
      ]
     },
     "execution_count": 27,
     "metadata": {},
     "output_type": "execute_result"
    }
   ],
   "source": [
    "const makeNoise = function() {\n",
    "    console.log(\"Pling!\");\n",
    "};\n",
    "makeNoise();\n",
    "\n",
    "const power = function(base, exponent) {\n",
    "    let result = 1;\n",
    "    for (let count = 0; count < exponent; count++) {\n",
    "        result *= base;\n",
    "    }\n",
    "    return result;\n",
    "};\n",
    "console.log(power(2, 10));"
   ]
  },
  {
   "cell_type": "markdown",
   "metadata": {},
   "source": [
    "Each binding has a **scope**. The concept of scope is simiar to that of C++. Each local scope can also see all the local scopes that contain it, and all scopes can see the global scope. This approach to binding visibility is called **lexical scoping**."
   ]
  },
  {
   "cell_type": "markdown",
   "metadata": {},
   "source": [
    "## Arrow Functions"
   ]
  },
  {
   "cell_type": "code",
   "execution_count": 1,
   "metadata": {},
   "outputs": [
    {
     "data": {
      "text/plain": [
       "undefined"
      ]
     },
     "execution_count": 1,
     "metadata": {},
     "output_type": "execute_result"
    }
   ],
   "source": [
    "const pow = (base, exponent) => {\n",
    "    let result = 1;\n",
    "    for (let count = 0; count < exponent; count++) {\n",
    "        result *= base;\n",
    "    }\n",
    "    return result;\n",
    "};"
   ]
  },
  {
   "cell_type": "code",
   "execution_count": null,
   "metadata": {},
   "outputs": [],
   "source": []
  },
  {
   "cell_type": "code",
   "execution_count": 9,
   "metadata": {},
   "outputs": [
    {
     "data": {
      "text/plain": [
       "undefined"
      ]
     },
     "execution_count": 9,
     "metadata": {},
     "output_type": "execute_result"
    }
   ],
   "source": [
    "squaree(2)"
   ]
  },
  {
   "cell_type": "markdown",
   "metadata": {},
   "source": [
    "The arrow comes after the list of parameters and is followed by the function’s body. It expresses something like “this input (the parameters) produces this result (the body).”"
   ]
  },
  {
   "cell_type": "markdown",
   "metadata": {},
   "source": [
    "## The Call Stack\n",
    "\n",
    "Every time a function is called, the current context is stored on top of this call stack. When a function returns, it removes the top context from the stack and uses that context to continue execution."
   ]
  },
  {
   "cell_type": "code",
   "execution_count": 29,
   "metadata": {},
   "outputs": [
    {
     "ename": "RangeError",
     "evalue": "Maximum call stack size exceeded",
     "output_type": "error",
     "traceback": [
      "evalmachine.<anonymous>:2",
      "    return egg();",
      "    ^",
      "",
      "RangeError: Maximum call stack size exceeded",
      "    at chicken (evalmachine.<anonymous>:2:5)",
      "    at egg (evalmachine.<anonymous>:6:12)",
      "    at chicken (evalmachine.<anonymous>:2:12)",
      "    at egg (evalmachine.<anonymous>:6:12)",
      "    at chicken (evalmachine.<anonymous>:2:12)",
      "    at egg (evalmachine.<anonymous>:6:12)",
      "    at chicken (evalmachine.<anonymous>:2:12)",
      "    at egg (evalmachine.<anonymous>:6:12)",
      "    at chicken (evalmachine.<anonymous>:2:12)",
      "    at egg (evalmachine.<anonymous>:6:12)"
     ]
    }
   ],
   "source": [
    "function chicken() {\n",
    "    return egg();\n",
    "}\n",
    "\n",
    "function egg() {\n",
    "    return chicken();\n",
    "}\n",
    "\n",
    "console.log(chicken() + \" came first.\");"
   ]
  },
  {
   "cell_type": "markdown",
   "metadata": {},
   "source": [
    "## Optional Arguments"
   ]
  },
  {
   "cell_type": "markdown",
   "metadata": {},
   "source": [
    "The following code is allowed and executes without any problem: It ignores the extra arguments and computes the square of the first one."
   ]
  },
  {
   "cell_type": "code",
   "execution_count": 30,
   "metadata": {},
   "outputs": [
    {
     "name": "stdout",
     "output_type": "stream",
     "text": [
      "16\n"
     ]
    },
    {
     "data": {
      "text/plain": [
       "undefined"
      ]
     },
     "execution_count": 30,
     "metadata": {},
     "output_type": "execute_result"
    }
   ],
   "source": [
    "function sq(x) { return x * x; }\n",
    "console.log(sq(4, true, \"hedgehog\"));"
   ]
  },
  {
   "cell_type": "markdown",
   "metadata": {},
   "source": [
    "JavaScript is extremely broad-minded about the number of arguments you pass to a function. If you pass too many, the extra ones are ignored. If you pass too few, the missing parameters get assigned the value undefined. The downside of this is that even if you accidentally pass the wrong number of arguments to functions. No one will tell you about it. The upside is that this behavior can be used to allow a function to be called with different numbers of arguments."
   ]
  },
  {
   "cell_type": "code",
   "execution_count": 31,
   "metadata": {
    "scrolled": true
   },
   "outputs": [
    {
     "name": "stdout",
     "output_type": "stream",
     "text": [
      "-10\n",
      "5\n"
     ]
    },
    {
     "data": {
      "text/plain": [
       "undefined"
      ]
     },
     "execution_count": 31,
     "metadata": {},
     "output_type": "execute_result"
    }
   ],
   "source": [
    "function minus(a, b) {\n",
    "    if (b === undefined) return -a;\n",
    "    else return a - b;\n",
    "}\n",
    "console.log(minus(10));\n",
    "console.log(minus(10, 5));"
   ]
  },
  {
   "cell_type": "markdown",
   "metadata": {},
   "source": [
    "If you write an `= `operator after a parameter, followed by an expression, the value of that expression will replace the argument when it is not given."
   ]
  },
  {
   "cell_type": "code",
   "execution_count": 32,
   "metadata": {},
   "outputs": [
    {
     "name": "stdout",
     "output_type": "stream",
     "text": [
      "16\n",
      "64\n"
     ]
    },
    {
     "data": {
      "text/plain": [
       "undefined"
      ]
     },
     "execution_count": 32,
     "metadata": {},
     "output_type": "execute_result"
    }
   ],
   "source": [
    "function power2(base, exponent = 2) {\n",
    "    let result = 1;\n",
    "    for (let count = 0; count < exponent; count++) {\n",
    "        result *= base;\n",
    "    }\n",
    "    return result;\n",
    "}\n",
    "\n",
    "console.log(power2(4));\n",
    "console.log(power2(2, 6));"
   ]
  },
  {
   "cell_type": "code",
   "execution_count": 33,
   "metadata": {},
   "outputs": [
    {
     "name": "stdout",
     "output_type": "stream",
     "text": [
      "C O 2\n"
     ]
    },
    {
     "data": {
      "text/plain": [
       "undefined"
      ]
     },
     "execution_count": 33,
     "metadata": {},
     "output_type": "execute_result"
    }
   ],
   "source": [
    "console.log(\"C\", \"O\", 2);"
   ]
  },
  {
   "cell_type": "markdown",
   "metadata": {},
   "source": [
    "## Closure"
   ]
  },
  {
   "cell_type": "markdown",
   "metadata": {},
   "source": [
    "The ability to treat functions as values, combined with the fact that local bindings are re-created every time a function is called, brings up an interesting question. What happens to local bindings when the function call that created them is no longer active? <br>\n",
    "The following code shows an example of this. It defines a function, wrapValue , that creates a local binding. It then returns a function that accesses and returns this local binding."
   ]
  },
  {
   "cell_type": "code",
   "execution_count": 34,
   "metadata": {},
   "outputs": [
    {
     "name": "stdout",
     "output_type": "stream",
     "text": [
      "1\n",
      "2\n",
      "1\n"
     ]
    },
    {
     "data": {
      "text/plain": [
       "undefined"
      ]
     },
     "execution_count": 34,
     "metadata": {},
     "output_type": "execute_result"
    }
   ],
   "source": [
    "function wrapValue(n) {\n",
    "    let local = n;\n",
    "    return () => local;\n",
    "}\n",
    "let wrap1 = wrapValue(1);\n",
    "let wrap2 = wrapValue(2);\n",
    "console.log(wrap1());\n",
    "console.log(wrap2());\n",
    "console.log(wrap1());"
   ]
  },
  {
   "cell_type": "markdown",
   "metadata": {},
   "source": [
    "This is allowed and works as you’d hope—both instances of the binding can still be accessed. This situation is a good demonstration of the fact _that local bindings are created anew for every call, and different calls can’t trample on one another’s local bindings_. This feature—being able to reference a specific instance of a local binding in an enclosing scope—is called **closure**. A function that references bindings from local scopes around it is called a closure. This behavior not only frees you from having to worry about lifetimes of bindings but also makes it possible to use function values in some creative ways."
   ]
  },
  {
   "cell_type": "code",
   "execution_count": 35,
   "metadata": {},
   "outputs": [
    {
     "name": "stdout",
     "output_type": "stream",
     "text": [
      "10\n"
     ]
    },
    {
     "data": {
      "text/plain": [
       "undefined"
      ]
     },
     "execution_count": 35,
     "metadata": {},
     "output_type": "execute_result"
    }
   ],
   "source": [
    "function multiplier(factor) {\n",
    "    return number => number * factor;\n",
    "    //It returns a function binding.\n",
    "}\n",
    "let twice = multiplier(2);\n",
    "console.log(twice(5));"
   ]
  },
  {
   "cell_type": "markdown",
   "metadata": {},
   "source": [
    "A good mental model is to think of function values as containing both the code in their body and the environment in which they are created. When called, the function body sees the environment in which it was created, not the environment\n",
    "in which it is called. <br>In the example, multiplier is called and creates an environment in which its factor parameter is bound to 2. The function value it returns, which is stored in twice , remembers this environment. So when that is called, it multiplies its argument by 2."
   ]
  },
  {
   "cell_type": "markdown",
   "metadata": {},
   "source": [
    "## Recursion"
   ]
  },
  {
   "cell_type": "code",
   "execution_count": 36,
   "metadata": {},
   "outputs": [
    {
     "name": "stdout",
     "output_type": "stream",
     "text": [
      "8\n"
     ]
    },
    {
     "data": {
      "text/plain": [
       "undefined"
      ]
     },
     "execution_count": 36,
     "metadata": {},
     "output_type": "execute_result"
    }
   ],
   "source": [
    "function power3(base, exponent) {\n",
    "    if (exponent == 0) {\n",
    "        return 1;\n",
    "    } else {\n",
    "        return base * power3(base, exponent - 1);\n",
    "    }\n",
    "}\n",
    "console.log(power3(2, 3));"
   ]
  },
  {
   "cell_type": "markdown",
   "metadata": {},
   "source": [
    "But this implementation has one problem: in typical JavaScript implementations, it’s about three times slower than the looping version. Running through a simple loop is generally cheaper than calling a function multiple times. <br> Still there ar problems easier to solve with recursion than looping. Mostly problems that branch out unexpectedly into unknown branches. Like : Consider this puzzle: by starting from the number 1 and repeatedly either adding 5 or multiplying by 3, an infinite set of numbers can be produced. How would you write a function that, given a number, tries to find a sequence of such additions and multiplications that produces that number?"
   ]
  },
  {
   "cell_type": "code",
   "execution_count": 37,
   "metadata": {},
   "outputs": [
    {
     "name": "stdout",
     "output_type": "stream",
     "text": [
      "(((((1 * 3) + 5) + 5) * 3) + 5)\n",
      "((((((1 * 3) * 3) + 5) * 3) + 5) + 5)\n"
     ]
    },
    {
     "data": {
      "text/plain": [
       "undefined"
      ]
     },
     "execution_count": 37,
     "metadata": {},
     "output_type": "execute_result"
    }
   ],
   "source": [
    "function findSolution(target) {\n",
    "    function find(current, history) {\n",
    "        if (current == target) {\n",
    "            return history;\n",
    "        } else if (current > target) {\n",
    "            return null;\n",
    "        } else {\n",
    "            return find(current + 5, `(${history} + 5)`) ||\n",
    "                find(current * 3, `(${history} * 3)`); // Like shell scripts we access the value of a variable.\n",
    "        }\n",
    "    }\n",
    "    return find(1, \"1\");\n",
    "}\n",
    "console.log(findSolution(44));\n",
    "console.log(findSolution(52));"
   ]
  },
  {
   "cell_type": "markdown",
   "metadata": {},
   "source": [
    "Note that this program doesn’t necessarily find the shortest sequence of operations. It is satisfied when it finds any sequence at all. <br>\n",
    "The inner function find does the actual recursing. It takes two arguments: the current number and a string that records how we reached this number. If it finds a solution, it returns a string that shows how to get to the target. If no solution can be found starting from this number, it returns null . To do this, the function performs one of three actions. If the current number is the target number, the current history is a way to reach that tar get, so it is returned. If the current number is greater than the target, there’s no sense in further exploring this branch because both adding and multiplying will only make the number bigger, so it returns null . Finally, if we’re still below the target number, the function tries both possible paths that start from the current number by calling itself twice, once for addition and once for multiplication. If the first call returns something that is not null , it is returned. Otherwise, the second call is returned, regardless of whether it produces a string or null ."
   ]
  },
  {
   "cell_type": "markdown",
   "metadata": {},
   "source": [
    "## Growing Functions"
   ]
  },
  {
   "cell_type": "markdown",
   "metadata": {},
   "source": [
    "We want to write a program that prints two numbers: the numbers of cows and chickens on a farm, with the words Cows and Chickens after them and zeros padded before both numbers so that they are always three digits long."
   ]
  },
  {
   "cell_type": "code",
   "execution_count": 38,
   "metadata": {},
   "outputs": [
    {
     "name": "stdout",
     "output_type": "stream",
     "text": [
      "007 Cows\n",
      "011 Chickens\n"
     ]
    },
    {
     "data": {
      "text/plain": [
       "undefined"
      ]
     },
     "execution_count": 38,
     "metadata": {},
     "output_type": "execute_result"
    }
   ],
   "source": [
    "function printFarmInventory(cows, chickens) {\n",
    "    let cowString = String(cows);\n",
    "    while (cowString.length < 3) {\n",
    "        cowString = \"0\" + cowString;\n",
    "    }\n",
    "    console.log(`${cowString} Cows`);\n",
    "    let chickenString = String(chickens);\n",
    "    while (chickenString.length < 3) {\n",
    "        chickenString = \"0\" + chickenString;\n",
    "    }\n",
    "    console.log(`${chickenString} Chickens`);\n",
    "}\n",
    "printFarmInventory(7, 11);"
   ]
  },
  {
   "cell_type": "markdown",
   "metadata": {},
   "source": [
    "Mission accomplished! But just as we are about to send the farmer the code (along with a hefty invoice), she calls and tells us she’s also started keeping pigs, and couldn’t we please extend the software to also print pigs? We sure can. But just as we’re in the process of copying and pasting those four lines one more time, we stop and reconsider. There has to be a better way. Here’s a first attempt:"
   ]
  },
  {
   "cell_type": "code",
   "execution_count": 39,
   "metadata": {},
   "outputs": [
    {
     "name": "stdout",
     "output_type": "stream",
     "text": [
      "007 Cows\n",
      "011 Chickens\n",
      "003 Pigs\n"
     ]
    },
    {
     "data": {
      "text/plain": [
       "undefined"
      ]
     },
     "execution_count": 39,
     "metadata": {},
     "output_type": "execute_result"
    }
   ],
   "source": [
    "function printZeroPaddedWithLabel(number, label) {\n",
    "    let numberString = String(number);\n",
    "    while (numberString.length < 3) {\n",
    "        numberString = \"0\" + numberString;\n",
    "    }\n",
    "    console.log(`${numberString} ${label}`);\n",
    "}\n",
    "\n",
    "function printFarmInventory(cows, chickens, pigs) {\n",
    "    printZeroPaddedWithLabel(cows, \"Cows\");\n",
    "    printZeroPaddedWithLabel(chickens, \"Chickens\");\n",
    "    printZeroPaddedWithLabel(pigs, \"Pigs\");\n",
    "}\n",
    "printFarmInventory(7, 11, 3);"
   ]
  },
  {
   "cell_type": "markdown",
   "metadata": {},
   "source": [
    "It works! But that name, printZeroPaddedWithLabel , is a little awkward. It conflates three things—printing, zero-adding, and adding a label—into a single function."
   ]
  },
  {
   "cell_type": "code",
   "execution_count": 40,
   "metadata": {},
   "outputs": [
    {
     "name": "stdout",
     "output_type": "stream",
     "text": [
      "007 Cows\n",
      "016 Chickens\n",
      "003 Pigs\n"
     ]
    },
    {
     "data": {
      "text/plain": [
       "undefined"
      ]
     },
     "execution_count": 40,
     "metadata": {},
     "output_type": "execute_result"
    }
   ],
   "source": [
    "function zeroPad(number, width) {\n",
    "    let string = String(number);\n",
    "    while (string.length < width) {\n",
    "        string = \"0\" + string;\n",
    "    }\n",
    "    return string;\n",
    "}\n",
    "\n",
    "function printFarmInventory(cows, chickens, pigs) {\n",
    "    console.log(`${zeroPad(cows, 3)} Cows`);\n",
    "    console.log(`${zeroPad(chickens, 3)} Chickens`);\n",
    "    console.log(`${zeroPad(pigs, 3)} Pigs`);\n",
    "}\n",
    "printFarmInventory(7, 16, 3);"
   ]
  },
  {
   "cell_type": "markdown",
   "metadata": {},
   "source": [
    "A function with a nice, obvious name like zeroPad makes it easier for someone who reads the code to figure out what it does. And such a function is useful in more situations than just this specific program. For example, you could use it to help print nicely aligned tables of numbers."
   ]
  },
  {
   "cell_type": "markdown",
   "metadata": {},
   "source": [
    "### Functions and Side Effects\n",
    "\n",
    "Functions can be roughly divided into those that are called for their side effects and those that are called for their return value. (Though it is definitely also possible to both have side effects and return a value.)\n",
    "The first helper function in the farm example, printZeroPaddedWithLabel , is called for its side effect: it prints a line. The second version, zeroPad , is called for its return value. It is no coincidence that the second is useful in more situations than the first.<br>A pure function is a specific kind of value-producing function that not only has no side effects but also doesn’t rely on side effects from other code—for example, it doesn’t read global bindings whose value might change. A pure function has the pleasant property that, when called with the same arguments, it always produces the same value (and doesn’t do anything else)"
   ]
  },
  {
   "cell_type": "code",
   "execution_count": null,
   "metadata": {},
   "outputs": [],
   "source": []
  }
 ],
 "metadata": {
  "kernelspec": {
   "display_name": "Javascript (Node.js)",
   "language": "javascript",
   "name": "javascript"
  },
  "language_info": {
   "file_extension": ".js",
   "mimetype": "application/javascript",
   "name": "javascript",
   "version": "15.2.1"
  }
 },
 "nbformat": 4,
 "nbformat_minor": 4
}
