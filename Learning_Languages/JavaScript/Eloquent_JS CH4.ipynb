{
 "cells": [
  {
   "cell_type": "markdown",
   "metadata": {},
   "source": [
    "# CH4 : DATA STRUCTURES: OBJECTS AND ARRAYS"
   ]
  },
  {
   "cell_type": "markdown",
   "metadata": {},
   "source": [
    "## Arrays"
   ]
  },
  {
   "cell_type": "code",
   "execution_count": 1,
   "metadata": {},
   "outputs": [
    {
     "name": "stdout",
     "output_type": "stream",
     "text": [
      "5\n"
     ]
    },
    {
     "data": {
      "text/plain": [
       "undefined"
      ]
     },
     "execution_count": 1,
     "metadata": {},
     "output_type": "execute_result"
    }
   ],
   "source": [
    "let listOfNumbers = [2, 3, 5, 7, 11];\n",
    "listOfNumbers[0];\n",
    "console.log(listOfNumbers[2]);"
   ]
  },
  {
   "cell_type": "markdown",
   "metadata": {},
   "source": [
    "Almost all JavaScript values have **properties**. The exceptions are `null` and `undefined`. The two main ways to access properties in JavaScript are with a dot and with square brackets. Both `value.x` and `value[x]` access a property on value —but not necessarily the same property. When using a **dot**, the word after the dot is the literal name of the property. When using **square brackets**, the expression between the brackets is evaluated to get the property name. So if you know that the property you are interested in is called color, you say `value.color` . If you want to extract the property named by the value held in the binding i , you say `value[i]`. The elements in an array are stored as the array’s properties, using numbers as property names. The length property of an array tells us how many elements it has."
   ]
  },
  {
   "cell_type": "code",
   "execution_count": 2,
   "metadata": {},
   "outputs": [
    {
     "data": {
      "text/plain": [
       "5"
      ]
     },
     "execution_count": 2,
     "metadata": {},
     "output_type": "execute_result"
    }
   ],
   "source": [
    "listOfNumbers.length;\n",
    "listOfNumbers[\"length\"];"
   ]
  },
  {
   "cell_type": "markdown",
   "metadata": {},
   "source": [
    "Both string and array objects contain, in addition to the length property, a number of properties that hold function values. Every string has a `toUpperCase` property, also `toLowerCase` , going the other way."
   ]
  },
  {
   "cell_type": "code",
   "execution_count": 3,
   "metadata": {},
   "outputs": [
    {
     "name": "stdout",
     "output_type": "stream",
     "text": [
      "function\n"
     ]
    },
    {
     "data": {
      "text/plain": [
       "undefined"
      ]
     },
     "execution_count": 3,
     "metadata": {},
     "output_type": "execute_result"
    }
   ],
   "source": [
    "let doh = \"Doh\";\n",
    "console.log(typeof doh.toUpperCase);"
   ]
  },
  {
   "cell_type": "code",
   "execution_count": 4,
   "metadata": {},
   "outputs": [
    {
     "name": "stdout",
     "output_type": "stream",
     "text": [
      "DOH\n"
     ]
    },
    {
     "data": {
      "text/plain": [
       "undefined"
      ]
     },
     "execution_count": 4,
     "metadata": {},
     "output_type": "execute_result"
    }
   ],
   "source": [
    "console.log(doh.toUpperCase());"
   ]
  },
  {
   "cell_type": "markdown",
   "metadata": {},
   "source": [
    "Properties that contain functions are generally called **methods** of the value they belong to, as in “ toUpperCase is a method of a string.”"
   ]
  },
  {
   "cell_type": "code",
   "execution_count": 5,
   "metadata": {},
   "outputs": [
    {
     "name": "stdout",
     "output_type": "stream",
     "text": [
      "[ 1, 2, 3, 4, 5 ]\n",
      "5\n",
      "[ 1, 2, 3, 4 ]\n"
     ]
    },
    {
     "data": {
      "text/plain": [
       "undefined"
      ]
     },
     "execution_count": 5,
     "metadata": {},
     "output_type": "execute_result"
    }
   ],
   "source": [
    "let sequence = [1, 2, 3];\n",
    "sequence.push(4);\n",
    "sequence.push(5);\n",
    "console.log(sequence);\n",
    "console.log(sequence.pop());\n",
    "console.log(sequence);"
   ]
  },
  {
   "cell_type": "markdown",
   "metadata": {},
   "source": [
    "The `push` method adds values to the end of an array, and the `pop` method does the opposite, removing the last value in the array and returning it. A list is also a **stack**. "
   ]
  },
  {
   "cell_type": "markdown",
   "metadata": {},
   "source": [
    "## Objects"
   ]
  },
  {
   "cell_type": "markdown",
   "metadata": {},
   "source": [
    "Values of the type **object** are arbitrary collections of properties. One way to create an object is by using`{}` braces as an expression."
   ]
  },
  {
   "cell_type": "code",
   "execution_count": 6,
   "metadata": {},
   "outputs": [
    {
     "name": "stdout",
     "output_type": "stream",
     "text": [
      "false\n",
      "undefined\n",
      "false\n"
     ]
    },
    {
     "data": {
      "text/plain": [
       "undefined"
      ]
     },
     "execution_count": 6,
     "metadata": {},
     "output_type": "execute_result"
    }
   ],
   "source": [
    "let day1 = {\n",
    "    squirrel: false,\n",
    "    events: [\"work\", \"touched tree\", \"pizza\", \"running\"]\n",
    "};\n",
    "console.log(day1.squirrel);\n",
    "console.log(day1.wolf);\n",
    "day1.wolf = false;\n",
    "console.log(day1.wolf);"
   ]
  },
  {
   "cell_type": "markdown",
   "metadata": {},
   "source": [
    "Inside the braces, there is a list of properties separated by commas `,`. Each property has a name followed by a colon`:` and a value. Properties whose names aren’t valid binding names or valid numbers have to be quoted`\"\"`."
   ]
  },
  {
   "cell_type": "code",
   "execution_count": 7,
   "metadata": {},
   "outputs": [
    {
     "data": {
      "text/plain": [
       "undefined"
      ]
     },
     "execution_count": 7,
     "metadata": {},
     "output_type": "execute_result"
    }
   ],
   "source": [
    "let descriptions = {\n",
    "    work: \"Went to work\", \"touched tree\": \"Touched a tree\"\n",
    "};"
   ]
  },
  {
   "cell_type": "code",
   "execution_count": 8,
   "metadata": {},
   "outputs": [
    {
     "name": "stdout",
     "output_type": "stream",
     "text": [
      "1\n",
      "undefined\n",
      "false\n",
      "true\n"
     ]
    },
    {
     "data": {
      "text/plain": [
       "undefined"
      ]
     },
     "execution_count": 8,
     "metadata": {},
     "output_type": "execute_result"
    }
   ],
   "source": [
    "let anObject = { left: 1, right: 2 };\n",
    "console.log(anObject.left);\n",
    "delete anObject.left;\n",
    "console.log(anObject.left);\n",
    "console.log(\"left\" in anObject);\n",
    "console.log(\"right\" in anObject);"
   ]
  },
  {
   "cell_type": "markdown",
   "metadata": {},
   "source": [
    "The binary `in` operator, when applied to a string and an object, tells you whether that object has a property with that name. The difference between setting a property to undefined and actually deleting it is that, in the first case, the object still has the property (it just doesn’t have a very interesting value), whereas in the second case the property is no longer present and in will return false.<br> To find out what properties an object has, you can use the `Object.keys` function."
   ]
  },
  {
   "cell_type": "code",
   "execution_count": 9,
   "metadata": {},
   "outputs": [
    {
     "name": "stdout",
     "output_type": "stream",
     "text": [
      "[ 'x', 'y', 'z' ]\n"
     ]
    },
    {
     "data": {
      "text/plain": [
       "undefined"
      ]
     },
     "execution_count": 9,
     "metadata": {},
     "output_type": "execute_result"
    }
   ],
   "source": [
    "console.log(Object.keys({x: 0, y: 0, z: 2}));"
   ]
  },
  {
   "cell_type": "markdown",
   "metadata": {},
   "source": [
    "There’s an `Object.assign` function that copies all properties from one object into another"
   ]
  },
  {
   "cell_type": "code",
   "execution_count": 10,
   "metadata": {},
   "outputs": [
    {
     "name": "stdout",
     "output_type": "stream",
     "text": [
      "{ a: 1, b: 3, c: 4 }\n"
     ]
    },
    {
     "data": {
      "text/plain": [
       "undefined"
      ]
     },
     "execution_count": 10,
     "metadata": {},
     "output_type": "execute_result"
    }
   ],
   "source": [
    "let objectA = {a: 1, b: 2};\n",
    "Object.assign(objectA, {b: 3, c: 4});\n",
    "console.log(objectA);"
   ]
  },
  {
   "cell_type": "markdown",
   "metadata": {},
   "source": [
    "An object or an array can contain one another in rather complicated forms."
   ]
  },
  {
   "cell_type": "code",
   "execution_count": 11,
   "metadata": {},
   "outputs": [
    {
     "data": {
      "text/plain": [
       "undefined"
      ]
     },
     "execution_count": 11,
     "metadata": {},
     "output_type": "execute_result"
    }
   ],
   "source": [
    "let journal = [\n",
    "    {events: [\"work\", \"touched tree\", \"pizza\",\n",
    "              \"running\", \"television\"],\n",
    "     squirrel: false},\n",
    "    {events: [\"work\", \"ice cream\", \"cauliflower\",\n",
    "              \"lasagna\", \"touched tree\", \"brushed teeth\"],\n",
    "     squirrel: false},\n",
    "    {events: [\"weekend\", \"cycling\", \"break\", \"peanuts\",\n",
    "              \"beer\"],\n",
    "     squirrel: true},\n",
    "    /* and so on... */\n",
    "];"
   ]
  },
  {
   "cell_type": "markdown",
   "metadata": {},
   "source": [
    "We saw that object values can be modified. The types of values discussed in earlier chapters, such as numbers, strings, and Booleans, are all **immutable**—it is impossible to change values of those types. Objects work differently. You can change their properties, causing a single object value to have different content at different times. With objects, there is a difference between having two references to the same object and having two different objects that contain the same properties. Consider the following code:"
   ]
  },
  {
   "cell_type": "code",
   "execution_count": 1,
   "metadata": {},
   "outputs": [
    {
     "name": "stdout",
     "output_type": "stream",
     "text": [
      "true\n",
      "false\n",
      "15\n",
      "10\n"
     ]
    },
    {
     "data": {
      "text/plain": [
       "undefined"
      ]
     },
     "execution_count": 1,
     "metadata": {},
     "output_type": "execute_result"
    }
   ],
   "source": [
    "let object1 = {value: 10};\n",
    "let object2 = object1;\n",
    "let object3 = {value: 10};\n",
    "\n",
    "console.log(object1 == object2);\n",
    "console.log(object3 == object2);\n",
    "\n",
    "object1.value = 15;\n",
    "console.log(object2.value);\n",
    "console.log(object3.value);"
   ]
  },
  {
   "cell_type": "markdown",
   "metadata": {},
   "source": [
    "The object1 and object2 bindings grasp the same object, They are said to have the same identity. <br>Though a const binding to an object can itself not be changed and will continue to point at the same object, the contents of that object might change."
   ]
  },
  {
   "cell_type": "code",
   "execution_count": 13,
   "metadata": {},
   "outputs": [
    {
     "data": {
      "text/plain": [
       "1"
      ]
     },
     "execution_count": 13,
     "metadata": {},
     "output_type": "execute_result"
    }
   ],
   "source": [
    "const score = {visitors: 0, home: 0};\n",
    "// This is okay\n",
    "score.visitors = 1;"
   ]
  },
  {
   "cell_type": "markdown",
   "metadata": {},
   "source": [
    "When you compare objects with JavaScript’s `==` operator, it compares by identity: it will produce `true` only if both objects are precisely the same value."
   ]
  },
  {
   "cell_type": "markdown",
   "metadata": {},
   "source": [
    "## Example\n",
    "A daily log of a boy who turns into a squirrel like warewolf and is trying to find out what triggers it."
   ]
  },
  {
   "cell_type": "code",
   "execution_count": 14,
   "metadata": {},
   "outputs": [
    {
     "data": {
      "text/plain": [
       "undefined"
      ]
     },
     "execution_count": 14,
     "metadata": {},
     "output_type": "execute_result"
    }
   ],
   "source": [
    "let Journal = [];\n",
    "function addEntry(events, squirrel) {\n",
    "    Journal.push({events, squirrel});\n",
    "}"
   ]
  },
  {
   "cell_type": "code",
   "execution_count": 15,
   "metadata": {},
   "outputs": [
    {
     "data": {
      "text/plain": [
       "undefined"
      ]
     },
     "execution_count": 15,
     "metadata": {},
     "output_type": "execute_result"
    }
   ],
   "source": [
    "addEntry([\"work\", \"touched tree\", \"pizza\", \"running\",\n",
    "          \"television\"], false);\n",
    "addEntry([\"work\", \"ice cream\", \"cauliflower\", \"lasagna\",\n",
    "          \"touched tree\", \"brushed teeth\"], false);\n",
    "addEntry([\"weekend\", \"cycling\", \"break\", \"peanuts\",\n",
    "          \"beer\"], true);"
   ]
  },
  {
   "cell_type": "markdown",
   "metadata": {},
   "source": [
    "Computing correlation between an event and squirrel we use statistical $\\phi$ function. The following code shows how we do it with a table of 4 entries each holding one correlation for the same event. "
   ]
  },
  {
   "cell_type": "code",
   "execution_count": 16,
   "metadata": {},
   "outputs": [
    {
     "name": "stdout",
     "output_type": "stream",
     "text": [
      "0.06859943405700354\n"
     ]
    },
    {
     "data": {
      "text/plain": [
       "undefined"
      ]
     },
     "execution_count": 16,
     "metadata": {},
     "output_type": "execute_result"
    }
   ],
   "source": [
    "function phi(table) {\n",
    "    return (table[3] * table[0] - table[2] * table[1]) /\n",
    "        Math.sqrt((table[2] + table[3]) *\n",
    "                  (table[0] + table[1]) *\n",
    "                  (table[1] + table[3]) *\n",
    "                  (table[0] + table[2]));\n",
    "}\n",
    "\n",
    "console.log(phi([76, 9, 4, 1]));"
   ]
  },
  {
   "cell_type": "markdown",
   "metadata": {},
   "source": [
    "To extract a two-by-two table for a specific event from the journal:"
   ]
  },
  {
   "cell_type": "code",
   "execution_count": 17,
   "metadata": {},
   "outputs": [
    {
     "data": {
      "text/plain": [
       "undefined"
      ]
     },
     "execution_count": 17,
     "metadata": {},
     "output_type": "execute_result"
    }
   ],
   "source": [
    "function tableFor(event, journal) {\n",
    "    let table = [0, 0, 0, 0];\n",
    "    for (let i = 0; i < journal.length; i++) {\n",
    "        let entry = journal[i], index = 0;\n",
    "        if (entry.events.includes(event)) index += 1;\n",
    "        if (entry.squirrel) index += 2;\n",
    "        table[index] += 1;\n",
    "    }\n",
    "    return table;\n",
    "}"
   ]
  },
  {
   "cell_type": "markdown",
   "metadata": {},
   "source": [
    "Arrays have an `includes` method that checks whether a given value exists in the array. And also lopps can be run in arrays to have similar functionallities."
   ]
  },
  {
   "cell_type": "code",
   "execution_count": 18,
   "metadata": {},
   "outputs": [
    {
     "data": {
      "text/plain": [
       "undefined"
      ]
     },
     "execution_count": 18,
     "metadata": {},
     "output_type": "execute_result"
    }
   ],
   "source": [
    "for (let i = 0; i < Journal.length; i++) {\n",
    "let entry = Journal[i];\n",
    "// Do something with entry\n",
    "}"
   ]
  },
  {
   "cell_type": "markdown",
   "metadata": {},
   "source": [
    "Or there is a simpler way to write such loops in JS"
   ]
  },
  {
   "cell_type": "code",
   "execution_count": 19,
   "metadata": {},
   "outputs": [
    {
     "name": "stdout",
     "output_type": "stream",
     "text": [
      "5 events.\n",
      "6 events.\n",
      "5 events.\n"
     ]
    },
    {
     "data": {
      "text/plain": [
       "undefined"
      ]
     },
     "execution_count": 19,
     "metadata": {},
     "output_type": "execute_result"
    }
   ],
   "source": [
    "for (let entry of Journal) {\n",
    "console.log(`${entry.events.length} events.`);\n",
    "}"
   ]
  },
  {
   "cell_type": "markdown",
   "metadata": {},
   "source": [
    "When a for loop looks like this, with the word `of` after a variable definition, it will loop over the elements of the value given after `of`. This works not only for arrays but also for strings and some other data structures."
   ]
  },
  {
   "cell_type": "markdown",
   "metadata": {},
   "source": [
    "To find all the events in a journal:"
   ]
  },
  {
   "cell_type": "code",
   "execution_count": 20,
   "metadata": {},
   "outputs": [
    {
     "data": {
      "text/plain": [
       "undefined"
      ]
     },
     "execution_count": 20,
     "metadata": {},
     "output_type": "execute_result"
    }
   ],
   "source": [
    "function journalEVENTS(journal){\n",
    "    let events = [];\n",
    "    for(let entry of journal){\n",
    "        for(let event of entry.events){\n",
    "            if(!events.includes(event)){\n",
    "                events.push(event);\n",
    "            }\n",
    "        }\n",
    "    }\n",
    "    return events;    \n",
    "}"
   ]
  },
  {
   "cell_type": "code",
   "execution_count": 21,
   "metadata": {},
   "outputs": [
    {
     "name": "stdout",
     "output_type": "stream",
     "text": [
      "[\n",
      "  'work',          'touched tree',\n",
      "  'pizza',         'running',\n",
      "  'television',    'ice cream',\n",
      "  'cauliflower',   'lasagna',\n",
      "  'brushed teeth', 'weekend',\n",
      "  'cycling',       'break',\n",
      "  'peanuts',       'beer'\n",
      "]\n"
     ]
    },
    {
     "data": {
      "text/plain": [
       "undefined"
      ]
     },
     "execution_count": 21,
     "metadata": {},
     "output_type": "execute_result"
    }
   ],
   "source": [
    "console.log(journalEVENTS(Journal));"
   ]
  },
  {
   "cell_type": "markdown",
   "metadata": {},
   "source": [
    "Using this we can find the correlation to each event. "
   ]
  },
  {
   "cell_type": "code",
   "execution_count": 22,
   "metadata": {},
   "outputs": [
    {
     "name": "stdout",
     "output_type": "stream",
     "text": [
      "work: -1\n",
      "touched tree: -1\n",
      "pizza: -0.5\n",
      "running: -0.5\n",
      "television: -0.5\n",
      "ice cream: -0.5\n",
      "cauliflower: -0.5\n",
      "lasagna: -0.5\n",
      "brushed teeth: -0.5\n",
      "weekend: 1\n",
      "cycling: 1\n",
      "break: 1\n",
      "peanuts: 1\n",
      "beer: 1\n"
     ]
    },
    {
     "data": {
      "text/plain": [
       "undefined"
      ]
     },
     "execution_count": 22,
     "metadata": {},
     "output_type": "execute_result"
    }
   ],
   "source": [
    "for (let event of journalEVENTS(Journal)) {\n",
    "    console.log(event + \":\", phi(tableFor(event, Journal)));\n",
    "}"
   ]
  },
  {
   "cell_type": "markdown",
   "metadata": {},
   "source": [
    "## Arrayology :)"
   ]
  },
  {
   "cell_type": "markdown",
   "metadata": {},
   "source": [
    "We saw `push` and `pop`, which add and remove elements at the _end_ of an array. The corresponding methods for adding and removing things at the _start_ of an array are called `unshift` and `shift`."
   ]
  },
  {
   "cell_type": "code",
   "execution_count": 23,
   "metadata": {},
   "outputs": [
    {
     "data": {
      "text/plain": [
       "undefined"
      ]
     },
     "execution_count": 23,
     "metadata": {},
     "output_type": "execute_result"
    }
   ],
   "source": [
    "let todoList = [];\n",
    "function remember(task) {\n",
    "    todoList.push(task);\n",
    "}\n",
    "function getTask() {\n",
    "    return todoList.shift();\n",
    "}\n",
    "function rememberUrgently(task) {\n",
    "    todoList.unshift(task);\n",
    "}"
   ]
  },
  {
   "cell_type": "markdown",
   "metadata": {},
   "source": [
    "That program manages a **queue** of tasks. You add tasks to the end of the queue by calling `remember(\"groceries\")` , and when you’re ready to do something, you call `getTask()` to get (and remove) the front item from the queue. The `rememberUrgentl`y function also adds a task but adds it to the front instead of the back of the queue.\n",
    "\n",
    "To search for a specific value, arrays provide an `indexOf` method. The method searches through the array from the start to the end and returns the index at which the requested value was found—or `−1` if it wasn’t found."
   ]
  },
  {
   "cell_type": "code",
   "execution_count": 24,
   "metadata": {},
   "outputs": [
    {
     "name": "stdout",
     "output_type": "stream",
     "text": [
      "1\n",
      "3\n"
     ]
    },
    {
     "data": {
      "text/plain": [
       "undefined"
      ]
     },
     "execution_count": 24,
     "metadata": {},
     "output_type": "execute_result"
    }
   ],
   "source": [
    "console.log([1, 2, 3, 2, 1].indexOf(2));\n",
    "console.log([1, 2, 3, 2, 1].lastIndexOf(2));"
   ]
  },
  {
   "cell_type": "markdown",
   "metadata": {},
   "source": [
    "Both `indexOf` and `lastIndexOf` take an optional second argument that indicates where to start searching. \n",
    "\n",
    "Another fundamental array method is `slice` , which takes start and end indices and returns an array that has only the elements between them. The start index is inclusive, the end index exclusive."
   ]
  },
  {
   "cell_type": "code",
   "execution_count": 25,
   "metadata": {},
   "outputs": [
    {
     "name": "stdout",
     "output_type": "stream",
     "text": [
      "[ 2, 3 ]\n",
      "[ 2, 3, 4 ]\n"
     ]
    },
    {
     "data": {
      "text/plain": [
       "undefined"
      ]
     },
     "execution_count": 25,
     "metadata": {},
     "output_type": "execute_result"
    }
   ],
   "source": [
    "console.log([0, 1, 2, 3, 4].slice(2, 4));\n",
    "console.log([0, 1, 2, 3, 4].slice(2));"
   ]
  },
  {
   "cell_type": "markdown",
   "metadata": {},
   "source": [
    "The `concat` method can be used to glue arrays together to create a new array, similar to what the `+` operator does for strings."
   ]
  },
  {
   "cell_type": "code",
   "execution_count": 2,
   "metadata": {},
   "outputs": [
    {
     "name": "stdout",
     "output_type": "stream",
     "text": [
      "[ 'a', 'b', 'd', 'e' ]\n"
     ]
    },
    {
     "data": {
      "text/plain": [
       "undefined"
      ]
     },
     "execution_count": 2,
     "metadata": {},
     "output_type": "execute_result"
    }
   ],
   "source": [
    "function remove(array, index) {\n",
    "return array.slice(0, index).concat(array.slice(index + 1));\n",
    "}\n",
    "console.log(remove([\"a\", \"b\", \"c\", \"d\", \"e\"], 2));"
   ]
  },
  {
   "cell_type": "markdown",
   "metadata": {},
   "source": [
    "##  Strings and Their Properties"
   ]
  },
  {
   "cell_type": "markdown",
   "metadata": {},
   "source": [
    "We can read properties like length and `toUpperCase` from string values. But if you try to add a new property, it doesn’t stick."
   ]
  },
  {
   "cell_type": "code",
   "execution_count": 27,
   "metadata": {},
   "outputs": [
    {
     "name": "stdout",
     "output_type": "stream",
     "text": [
      "undefined\n"
     ]
    },
    {
     "data": {
      "text/plain": [
       "undefined"
      ]
     },
     "execution_count": 27,
     "metadata": {},
     "output_type": "execute_result"
    }
   ],
   "source": [
    "let kim = \"Kim\";\n",
    "kim.age = 88;\n",
    "console.log(kim.age);"
   ]
  },
  {
   "cell_type": "markdown",
   "metadata": {},
   "source": [
    "Though the language doesn’t complain if you try to set new properties on them, it doesn’t actually store those properties because these primitive data types are immutable. <br> But they do have properties of their own."
   ]
  },
  {
   "cell_type": "code",
   "execution_count": 28,
   "metadata": {},
   "outputs": [
    {
     "name": "stdout",
     "output_type": "stream",
     "text": [
      "nut\n",
      "5\n",
      "11\n",
      "okay\n"
     ]
    },
    {
     "data": {
      "text/plain": [
       "undefined"
      ]
     },
     "execution_count": 28,
     "metadata": {},
     "output_type": "execute_result"
    }
   ],
   "source": [
    "console.log(\"coconuts\".slice(4, 7));\n",
    "console.log(\"coconut\".indexOf(\"u\"));\n",
    "console.log(\"one two three\".indexOf(\"ee\"));\n",
    "console.log(\"  okay \\n \".trim());"
   ]
  },
  {
   "cell_type": "code",
   "execution_count": 29,
   "metadata": {},
   "outputs": [
    {
     "name": "stdout",
     "output_type": "stream",
     "text": [
      "006\n"
     ]
    },
    {
     "data": {
      "text/plain": [
       "undefined"
      ]
     },
     "execution_count": 29,
     "metadata": {},
     "output_type": "execute_result"
    }
   ],
   "source": [
    "console.log(String(6).padStart(3, \"0\"));\n",
    "// the padding zeros function also exists as a property."
   ]
  },
  {
   "cell_type": "code",
   "execution_count": 30,
   "metadata": {},
   "outputs": [
    {
     "name": "stdout",
     "output_type": "stream",
     "text": [
      "[ 'Secretarybirds', 'specialize', 'in', 'stomping' ]\n"
     ]
    },
    {
     "data": {
      "text/plain": [
       "undefined"
      ]
     },
     "execution_count": 30,
     "metadata": {},
     "output_type": "execute_result"
    }
   ],
   "source": [
    "let sentence = \"Secretarybirds specialize in stomping\";\n",
    "let words = sentence.split(\" \");\n",
    "console.log(words);"
   ]
  },
  {
   "cell_type": "code",
   "execution_count": 31,
   "metadata": {},
   "outputs": [
    {
     "name": "stdout",
     "output_type": "stream",
     "text": [
      "Secretarybirds. specialize. in. stomping\n"
     ]
    },
    {
     "data": {
      "text/plain": [
       "undefined"
      ]
     },
     "execution_count": 31,
     "metadata": {},
     "output_type": "execute_result"
    }
   ],
   "source": [
    "console.log(words.join(\". \"));"
   ]
  },
  {
   "cell_type": "code",
   "execution_count": 32,
   "metadata": {},
   "outputs": [
    {
     "name": "stdout",
     "output_type": "stream",
     "text": [
      "LALALA\n",
      "3\n",
      "b\n"
     ]
    },
    {
     "data": {
      "text/plain": [
       "undefined"
      ]
     },
     "execution_count": 32,
     "metadata": {},
     "output_type": "execute_result"
    }
   ],
   "source": [
    "console.log(\"LA\".repeat(3));\n",
    "\n",
    "let string1 = \"abc\";\n",
    "console.log(string1.length);\n",
    "console.log(string1[1]);"
   ]
  },
  {
   "cell_type": "markdown",
   "metadata": {},
   "source": [
    "## Rest Parameters\n",
    "\n",
    "It can be useful for a function to accept *any number of arguments*. For example, `Math.max` computes the maximum of all the arguments it is given. To write such a function, you put *three dots* before the function’s last parameter, like this:"
   ]
  },
  {
   "cell_type": "code",
   "execution_count": 1,
   "metadata": {},
   "outputs": [
    {
     "name": "stdout",
     "output_type": "stream",
     "text": [
      "9\n",
      "Infinity\n"
     ]
    },
    {
     "data": {
      "text/plain": [
       "undefined"
      ]
     },
     "execution_count": 1,
     "metadata": {},
     "output_type": "execute_result"
    }
   ],
   "source": [
    "function max(...numbers) {\n",
    "    let result = -Infinity;\n",
    "    for (let number of numbers) {\n",
    "        if (number > result) result = number;\n",
    "    }\n",
    "    return result;\n",
    "}\n",
    "\n",
    "console.log(max(4, 1, 9, -2));\n",
    "console.log(max(42, 2e2, 7.779, -2, Infinity));"
   ]
  },
  {
   "cell_type": "markdown",
   "metadata": {},
   "source": [
    "When such a function is called, the **rest parameter** is bound to an array containing all further arguments. If there are other parameters before it, their values aren’t part of that array."
   ]
  },
  {
   "cell_type": "code",
   "execution_count": 2,
   "metadata": {},
   "outputs": [
    {
     "name": "stdout",
     "output_type": "stream",
     "text": [
      "7\n"
     ]
    },
    {
     "data": {
      "text/plain": [
       "undefined"
      ]
     },
     "execution_count": 2,
     "metadata": {},
     "output_type": "execute_result"
    }
   ],
   "source": [
    "let numbers = [5, 1, 7];\n",
    "console.log(max(...numbers));"
   ]
  },
  {
   "cell_type": "code",
   "execution_count": 5,
   "metadata": {},
   "outputs": [
    {
     "name": "stdout",
     "output_type": "stream",
     "text": [
      "6\n"
     ]
    },
    {
     "data": {
      "text/plain": [
       "undefined"
      ]
     },
     "execution_count": 5,
     "metadata": {},
     "output_type": "execute_result"
    }
   ],
   "source": [
    "console.log(max(...[1,2,5,6]));"
   ]
  },
  {
   "cell_type": "code",
   "execution_count": 35,
   "metadata": {},
   "outputs": [
    {
     "name": "stdout",
     "output_type": "stream",
     "text": [
      "[ 'will', 'never', 'fully', 'understand' ]\n"
     ]
    },
    {
     "data": {
      "text/plain": [
       "undefined"
      ]
     },
     "execution_count": 35,
     "metadata": {},
     "output_type": "execute_result"
    }
   ],
   "source": [
    "let words2 = [\"never\", \"fully\"];\n",
    "console.log([\"will\", ...words2, \"understand\"]);"
   ]
  },
  {
   "cell_type": "markdown",
   "metadata": {},
   "source": [
    "## The Math Object\n",
    "\n",
    "The `Math` object is used as a container to group a bunch of related functionality. There is only one `Math` object, and it is almost never useful as a value. Rather, it provides a `namespace` so that all these functions and values do not have to be global bindings."
   ]
  },
  {
   "cell_type": "code",
   "execution_count": 36,
   "metadata": {},
   "outputs": [
    {
     "name": "stdout",
     "output_type": "stream",
     "text": [
      "{ x: 0.12884556443927753, y: -1.9958453899348827 }\n"
     ]
    },
    {
     "data": {
      "text/plain": [
       "undefined"
      ]
     },
     "execution_count": 36,
     "metadata": {},
     "output_type": "execute_result"
    }
   ],
   "source": [
    "function randomPointOnCircle(radius) {\n",
    "    let angle = Math.random() * 2 * Math.PI;\n",
    "    return {x: radius * Math.cos(angle),\n",
    "            y: radius * Math.sin(angle)};\n",
    "}\n",
    "console.log(randomPointOnCircle(2));"
   ]
  },
  {
   "cell_type": "code",
   "execution_count": 37,
   "metadata": {},
   "outputs": [
    {
     "name": "stdout",
     "output_type": "stream",
     "text": [
      "0.5921318773469904\n"
     ]
    },
    {
     "data": {
      "text/plain": [
       "undefined"
      ]
     },
     "execution_count": 37,
     "metadata": {},
     "output_type": "execute_result"
    }
   ],
   "source": [
    "console.log(Math.random());"
   ]
  },
  {
   "cell_type": "code",
   "execution_count": 38,
   "metadata": {},
   "outputs": [
    {
     "name": "stdout",
     "output_type": "stream",
     "text": [
      "4\n"
     ]
    },
    {
     "data": {
      "text/plain": [
       "undefined"
      ]
     },
     "execution_count": 38,
     "metadata": {},
     "output_type": "execute_result"
    }
   ],
   "source": [
    "//If we want a whole random number instead of a fractional one\n",
    "console.log(Math.floor(Math.random() * 10));"
   ]
  },
  {
   "cell_type": "code",
   "execution_count": 39,
   "metadata": {},
   "outputs": [
    {
     "name": "stdout",
     "output_type": "stream",
     "text": [
      "11 10 19\n"
     ]
    },
    {
     "data": {
      "text/plain": [
       "undefined"
      ]
     },
     "execution_count": 39,
     "metadata": {},
     "output_type": "execute_result"
    }
   ],
   "source": [
    "console.log(Math.ceil(10.2), Math.round(10.2), Math.abs(-19))"
   ]
  },
  {
   "cell_type": "markdown",
   "metadata": {},
   "source": [
    "## Destructuring\n",
    "The following is the origibal phi function we wrote:"
   ]
  },
  {
   "cell_type": "code",
   "execution_count": 40,
   "metadata": {},
   "outputs": [
    {
     "data": {
      "text/plain": [
       "undefined"
      ]
     },
     "execution_count": 40,
     "metadata": {},
     "output_type": "execute_result"
    }
   ],
   "source": [
    "function phi(table) {\n",
    "    return (table[3] * table[0] - table[2] * table[1]) /\n",
    "        Math.sqrt((table[2] + table[3]) *\n",
    "                  (table[0] + table[1]) *\n",
    "                  (table[1] + table[3]) *\n",
    "                  (table[0] + table[2]));\n",
    "}"
   ]
  },
  {
   "cell_type": "markdown",
   "metadata": {},
   "source": [
    "Another way to do it is:"
   ]
  },
  {
   "cell_type": "code",
   "execution_count": 41,
   "metadata": {},
   "outputs": [
    {
     "data": {
      "text/plain": [
       "undefined"
      ]
     },
     "execution_count": 41,
     "metadata": {},
     "output_type": "execute_result"
    }
   ],
   "source": [
    "function phi([n00, n01, n10, n11]) {\n",
    "    return (n11 * n00 - n10 * n01) /\n",
    "        Math.sqrt((n10 + n11) * (n00 + n01) *\n",
    "                  (n01 + n11) * (n00 + n10));\n",
    "}"
   ]
  },
  {
   "cell_type": "markdown",
   "metadata": {},
   "source": [
    "## JSON"
   ]
  },
  {
   "cell_type": "markdown",
   "metadata": {},
   "source": [
    "If you want to save data in a file for later or send it to another computer over the network, you have to somehow convert the tangles of memory addresses to a description that can be stored or sent. What we can do is serialize the data. That means it is converted into a flat description. A popular serialization format is called JSON (pronounced “Jason”), which stands for **JavaScript Object Notation**.\n",
    "\n",
    "JSON looks similar to JavaScript’s way of writing arrays and objects, with a few restrictions. All property names have to be surrounded by double quotes, and only simple data expressions are allowed—no function calls, bindings, or anything that involves actual computation. Comments are not allowed in JSON."
   ]
  },
  {
   "cell_type": "markdown",
   "metadata": {},
   "source": [
    "JavaScript gives us the functions `JSON.stringify` and `JSON.parse` to convert data to and from this format. The first takes a JavaScript value and returns a JSON-encoded string. The second takes such a string and converts it to the value it encodes"
   ]
  },
  {
   "cell_type": "code",
   "execution_count": 42,
   "metadata": {},
   "outputs": [
    {
     "name": "stdout",
     "output_type": "stream",
     "text": [
      "{\"squirrel\":false,\"events\":[\"weekend\"]}\n"
     ]
    },
    {
     "data": {
      "text/plain": [
       "undefined"
      ]
     },
     "execution_count": 42,
     "metadata": {},
     "output_type": "execute_result"
    }
   ],
   "source": [
    "let str = JSON.stringify({squirrel: false,\n",
    "                             events: [\"weekend\"]});\n",
    "console.log(str);"
   ]
  },
  {
   "cell_type": "code",
   "execution_count": 43,
   "metadata": {},
   "outputs": [
    {
     "name": "stdout",
     "output_type": "stream",
     "text": [
      "[ 'weekend' ]\n"
     ]
    },
    {
     "data": {
      "text/plain": [
       "undefined"
      ]
     },
     "execution_count": 43,
     "metadata": {},
     "output_type": "execute_result"
    }
   ],
   "source": [
    "console.log(JSON.parse(str).events);"
   ]
  }
 ],
 "metadata": {
  "kernelspec": {
   "display_name": "Javascript (Node.js)",
   "language": "javascript",
   "name": "javascript"
  },
  "language_info": {
   "file_extension": ".js",
   "mimetype": "application/javascript",
   "name": "javascript",
   "version": "15.2.1"
  }
 },
 "nbformat": 4,
 "nbformat_minor": 4
}
