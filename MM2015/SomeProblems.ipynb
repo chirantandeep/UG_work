{
 "cells": [
  {
   "cell_type": "markdown",
   "metadata": {},
   "source": [
    "# Problem 1\n",
    "<b>Determine</b> the <b>maximum pressure of water vapour</b> in wet hydrogen at 1 atm pressure in which chromium can be heated without oxidation ocurring at 1500K. \n",
    "Is the oxidation of Cr by water vapour exothermic or endothermic?"
   ]
  },
  {
   "cell_type": "markdown",
   "metadata": {},
   "source": [
    "## Solution"
   ]
  },
  {
   "cell_type": "markdown",
   "metadata": {},
   "source": [
    "Here, we <b>declare needed variables</b>, namely: \n",
    "<br>$P_m$ for Pressure max \n",
    "<br>T for Temperature \n",
    "<br>$\\Delta$$G_3$, $\\Delta$$G_4$ for the Gibbs Energy of the reactions\n",
    "<br>$\\Delta$$G$ for <br>$P_{COS}$ for Partial Pressure of COS compound\n",
    "<br>$P_{CO}$ for partial pressure of CO compound"
   ]
  },
  {
   "cell_type": "code",
   "execution_count": 136,
   "metadata": {},
   "outputs": [
    {
     "data": {
      "text/plain": [
       "pCO"
      ]
     },
     "execution_count": 136,
     "metadata": {},
     "output_type": "execute_result"
    }
   ],
   "source": [
    "var('Pm',latex_name=\"\\\\ P_{max}\")\n",
    "var(\"T\")\n",
    "var(\"delG3\",latex_name=\"\\\\Delta G_3\")\n",
    "var(\"delG4\",latex_name=\"\\\\Delta G_4\")\n",
    "var(\"DG\",latex_name=\"\\\\Delta G\")\n",
    "var(\"pCOS\",latex_name=\"\\\\ p_COS\")\n",
    "var(\"pCO\",latex_name=\"\\\\ p_CO\")"
   ]
  },
  {
   "cell_type": "markdown",
   "metadata": {},
   "source": [
    "### WATER REACTION:\n",
    "#### * Eq(1) \n",
    "$$2H_2 + O_2 \\rightarrow 2H_2O$$"
   ]
  },
  {
   "cell_type": "markdown",
   "metadata": {},
   "source": [
    "For half of the moles on both sides, we get:\n",
    "<br>$\\Delta$G= -2,47,500 + 55.85*T"
   ]
  },
  {
   "cell_type": "code",
   "execution_count": 138,
   "metadata": {},
   "outputs": [
    {
     "data": {
      "text/html": [
       "<html><script type=\"math/tex; mode=display\">\\newcommand{\\Bold}[1]{\\mathbf{#1}}{\\Delta G_1}</script></html>"
      ],
      "text/plain": [
       "delG1"
      ]
     },
     "metadata": {},
     "output_type": "display_data"
    },
    {
     "data": {
      "text/html": [
       "<html><script type=\"math/tex; mode=display\">\\newcommand{\\Bold}[1]{\\mathbf{#1}}111.700000000000 \\, T - 495000</script></html>"
      ],
      "text/plain": [
       "111.700000000000*T - 495000"
      ]
     },
     "metadata": {},
     "output_type": "display_data"
    }
   ],
   "source": [
    "#So for doubling the moles as the Gibbs energy is extensive property.\n",
    "\n",
    "var(\"delG1\",latex_name=\"\\\\Delta G_1\")\n",
    "delG1.show()\n",
    "delG1 =2*(-247500+55.85*T)\n",
    "delG1.show()"
   ]
  },
  {
   "cell_type": "markdown",
   "metadata": {},
   "source": [
    "### CHROMIUM REACTION\n",
    "#### * Eq(2)\n",
    "\n",
    "$$\\frac{2}{3}Cr + O_2 \\rightarrow \\frac{2}{3}Cr_2O_3 $$\n",
    "\n",
    "For reaction with 1 mole of cromium and 3/2 moles and Oxygen producing one mole of $Cr_2O_3$:\n",
    "<br>The given $\\Delta$G = -1,110,100 + 247.3*T"
   ]
  },
  {
   "cell_type": "code",
   "execution_count": 139,
   "metadata": {},
   "outputs": [
    {
     "data": {
      "text/html": [
       "<html><script type=\"math/tex; mode=display\">\\newcommand{\\Bold}[1]{\\mathbf{#1}}{\\Delta G_2}</script></html>"
      ],
      "text/plain": [
       "delG2"
      ]
     },
     "metadata": {},
     "output_type": "display_data"
    },
    {
     "data": {
      "text/html": [
       "<html><script type=\"math/tex; mode=display\">\\newcommand{\\Bold}[1]{\\mathbf{#1}}164.866666666667 \\, T - 740066.6666666666</script></html>"
      ],
      "text/plain": [
       "164.866666666667*T - 740066.6666666666"
      ]
     },
     "metadata": {},
     "output_type": "display_data"
    }
   ],
   "source": [
    "#So as the required is 2/3 times of the original equation .So as the Gibbs energy is extensive:\n",
    "\n",
    "var(\"delG2\",latex_name=\"\\\\Delta G_2\")\n",
    "delG2.show()\n",
    "delG2 =float(2/3)*(-1110100+247.3*T)\n",
    "delG2.show()"
   ]
  },
  {
   "cell_type": "markdown",
   "metadata": {},
   "source": [
    "#### Evaluating the differences between equations 2 and 1 gives us:\n",
    "<br>2/3$Cr$+2$H_2O$ $\\rightarrow$ 2/3$Cr_2$ + 2$H_2$"
   ]
  },
  {
   "cell_type": "code",
   "execution_count": 140,
   "metadata": {},
   "outputs": [
    {
     "data": {
      "text/html": [
       "<html><script type=\"math/tex; mode=display\">\\newcommand{\\Bold}[1]{\\mathbf{#1}}53.1666666666667 \\, T - 245066.66666666663</script></html>"
      ],
      "text/plain": [
       "53.1666666666667*T - 245066.66666666663"
      ]
     },
     "metadata": {},
     "output_type": "display_data"
    }
   ],
   "source": [
    "var('DG')\n",
    "DG =(delG2-delG1)\n",
    "DG.show()"
   ]
  },
  {
   "cell_type": "markdown",
   "metadata": {},
   "source": [
    "### Expression used to solve:\n",
    "<b>Equilibrium constant</b> :\n",
    "$$K= {\\exp{\\left(-\\frac{\\Delta G}{RT}\\right)}}$$"
   ]
  },
  {
   "cell_type": "markdown",
   "metadata": {},
   "source": [
    "Initializing variables in the above expression: R,T and doing the math"
   ]
  },
  {
   "cell_type": "code",
   "execution_count": 141,
   "metadata": {},
   "outputs": [
    {
     "data": {
      "text/plain": [
       "T == 1500"
      ]
     },
     "execution_count": 141,
     "metadata": {},
     "output_type": "execute_result"
    }
   ],
   "source": [
    "R=8.314\n",
    "T_info = T ==1500\n",
    "T_info"
   ]
  },
  {
   "cell_type": "code",
   "execution_count": 142,
   "metadata": {},
   "outputs": [
    {
     "data": {
      "text/plain": [
       "571538.688438923"
      ]
     },
     "execution_count": 142,
     "metadata": {},
     "output_type": "execute_result"
    }
   ],
   "source": [
    "value = -(DG.subs(T_info) / (R*T.subs(T_info)))        \n",
    "Keq=exp(value)\n",
    "Keq"
   ]
  },
  {
   "cell_type": "markdown",
   "metadata": {},
   "source": [
    "As we know that at equilibrium there exists the maximum water pressure. \n",
    "<br>Let $P_m$ denote this maximum Pressure.\n",
    "<br><br>$$K= {\\frac{1}{P_m^2}}$$"
   ]
  },
  {
   "cell_type": "code",
   "execution_count": 143,
   "metadata": {},
   "outputs": [
    {
     "name": "stdout",
     "output_type": "stream",
     "text": [
      "Maximum Pressure obtained is 0.00132274821172805 atm.\n"
     ]
    }
   ],
   "source": [
    "Pm=sqrt(1/Keq)\n",
    "print(\"Maximum Pressure obtained is\",Pm,\"atm.\")"
   ]
  },
  {
   "cell_type": "markdown",
   "metadata": {},
   "source": [
    "**NOTE:**\n",
    "* If the pressure is above the maximum pressur ethen the $\\Delta$G of equation will become negative and oxidation of Chromium will proceed.\n",
    "* Thus the pressure is maximum water pressure to which Chromium can be heated without oxidizing.\n",
    "\n",
    "Here, we get the result of change in enthalpy as: \n",
    "$\\Delta H$= -245067.\n",
    "(This is obtained from the Gibbs energy change obtained)\n",
    "\n",
    "Thus the reaction is Exothermic"
   ]
  },
  {
   "cell_type": "markdown",
   "metadata": {},
   "source": [
    "# Problem 2 \n",
    "A gas mixture initially containing 90% CO, 0.4% COS, and 9.6% inert constituents (by volume) is passed over sponge iron at 1000 K to remove sulfur by the following reaction:\n",
    "\n",
    "$$COS(g)+Fe(s) = CO(g)+FeS(s)$$\n",
    "\n",
    "1. Assuming that the effluent gas is in equilibrium with Fe and FeS, calculate the percentage of sulfur removed from the gas by reaction with the sponge iron.\n",
    "2. Calculate the partial pressure of $S_2$ in the effluent gas."
   ]
  },
  {
   "cell_type": "markdown",
   "metadata": {},
   "source": [
    "## 1 Solution"
   ]
  },
  {
   "cell_type": "markdown",
   "metadata": {},
   "source": [
    "We need to consider three reactions in equlibrium\n",
    "1. $$C(s) + \\frac{1}{2}O_2(g) = CO$$\n",
    "2. $$C(s) + \\frac{1}{2}O_2 + \\frac{1}{2}S_2 = COS$$\n",
    "3. $$Fe(s) + \\frac{1}{2}S_2 = FeS_2$$\n",
    "\n",
    "These three reactions together $( 1-2+3 )$ gives us the final equlibrium reaction \n",
    "4. $$COS(g)+Fe(s) = CO(g)+FeS(s)$$"
   ]
  },
  {
   "cell_type": "code",
   "execution_count": 93,
   "metadata": {},
   "outputs": [],
   "source": [
    "var('T')\n",
    "CO_initial = 0.9\n",
    "COS_initial = 0.004\n",
    "T_info = T == 1000"
   ]
  },
  {
   "cell_type": "code",
   "execution_count": 129,
   "metadata": {},
   "outputs": [
    {
     "data": {
      "text/html": [
       "<html><script type=\"math/tex; mode=display\">\\newcommand{\\Bold}[1]{\\mathbf{#1}}{\\Delta G_1}</script></html>"
      ],
      "text/plain": [
       "delG1"
      ]
     },
     "metadata": {},
     "output_type": "display_data"
    },
    {
     "data": {
      "text/html": [
       "<html><script type=\"math/tex; mode=display\">\\newcommand{\\Bold}[1]{\\mathbf{#1}}-87.6500000000000 \\, T - 111700</script></html>"
      ],
      "text/plain": [
       "-87.6500000000000*T - 111700"
      ]
     },
     "metadata": {},
     "output_type": "display_data"
    },
    {
     "data": {
      "text/html": [
       "<html><script type=\"math/tex; mode=display\">\\newcommand{\\Bold}[1]{\\mathbf{#1}}{\\Delta G_2}</script></html>"
      ],
      "text/plain": [
       "delG2"
      ]
     },
     "metadata": {},
     "output_type": "display_data"
    },
    {
     "data": {
      "text/html": [
       "<html><script type=\"math/tex; mode=display\">\\newcommand{\\Bold}[1]{\\mathbf{#1}}-9.96000000000000 \\, T - 202800</script></html>"
      ],
      "text/plain": [
       "-9.96000000000000*T - 202800"
      ]
     },
     "metadata": {},
     "output_type": "display_data"
    },
    {
     "data": {
      "text/html": [
       "<html><script type=\"math/tex; mode=display\">\\newcommand{\\Bold}[1]{\\mathbf{#1}}{\\Delta G_3}</script></html>"
      ],
      "text/plain": [
       "delG3"
      ]
     },
     "metadata": {},
     "output_type": "display_data"
    },
    {
     "data": {
      "text/html": [
       "<html><script type=\"math/tex; mode=display\">\\newcommand{\\Bold}[1]{\\mathbf{#1}}52.5500000000000 \\, T - 150200</script></html>"
      ],
      "text/plain": [
       "52.5500000000000*T - 150200"
      ]
     },
     "metadata": {},
     "output_type": "display_data"
    },
    {
     "data": {
      "text/html": [
       "<html><script type=\"math/tex; mode=display\">\\newcommand{\\Bold}[1]{\\mathbf{#1}}{\\Delta G_4}</script></html>"
      ],
      "text/plain": [
       "delG4"
      ]
     },
     "metadata": {},
     "output_type": "display_data"
    },
    {
     "data": {
      "text/html": [
       "<html><script type=\"math/tex; mode=display\">\\newcommand{\\Bold}[1]{\\mathbf{#1}}-25.1400000000000 \\, T - 59100</script></html>"
      ],
      "text/plain": [
       "-25.1400000000000*T - 59100"
      ]
     },
     "metadata": {},
     "output_type": "display_data"
    }
   ],
   "source": [
    "var(\"delG1\",latex_name=\"\\\\Delta G_1\")\n",
    "delG1.show()\n",
    "delG1 = -111700 - 87.65*T\n",
    "delG1.show()\n",
    "\n",
    "var(\"delG2\",latex_name=\"\\\\Delta G_2\")\n",
    "delG2.show()\n",
    "delG2 = -202800 - 9.96*T\n",
    "delG2.show()\n",
    "\n",
    "var(\"delG3\",latex_name=\"\\\\Delta G_3\")\n",
    "delG3.show()\n",
    "delG3 = -150200 + 52.55*T\n",
    "delG3.show()\n",
    "\n",
    "var(\"delG4\",latex_name=\"\\\\Delta G_4\")\n",
    "delG4.show()\n",
    "delG4 = delG1 - delG2 + delG3\n",
    "delG4.show()"
   ]
  },
  {
   "cell_type": "markdown",
   "metadata": {},
   "source": [
    "At 1000K, $\\Delta G_r$ of the reaction can be calculated as :"
   ]
  },
  {
   "cell_type": "code",
   "execution_count": 130,
   "metadata": {},
   "outputs": [
    {
     "data": {
      "text/html": [
       "<html><script type=\"math/tex; mode=display\">\\newcommand{\\Bold}[1]{\\mathbf{#1}}{\\Delta G_r}</script></html>"
      ],
      "text/plain": [
       "delGr"
      ]
     },
     "metadata": {},
     "output_type": "display_data"
    },
    {
     "data": {
      "text/html": [
       "<html><script type=\"math/tex; mode=display\">\\newcommand{\\Bold}[1]{\\mathbf{#1}}-84240.0000000000</script></html>"
      ],
      "text/plain": [
       "-84240.0000000000"
      ]
     },
     "metadata": {},
     "output_type": "display_data"
    }
   ],
   "source": [
    "var('delGr',latex_name=\"\\\\Delta G_r\")\n",
    "delGr.show()\n",
    "delGr = delG4.subs(T_info)\n",
    "delGr.show()"
   ]
  },
  {
   "cell_type": "markdown",
   "metadata": {},
   "source": [
    "The equlibrium constant for the reaction can be found from $\\Delta G_r$ by :\n",
    "$$K = exp \\left({-\\frac{\\Delta G_r}{RT}}\\right)$$"
   ]
  },
  {
   "cell_type": "code",
   "execution_count": 131,
   "metadata": {},
   "outputs": [
    {
     "data": {
      "text/html": [
       "<html><script type=\"math/tex; mode=display\">\\newcommand{\\Bold}[1]{\\mathbf{#1}}{K_{eq}^1}</script></html>"
      ],
      "text/plain": [
       "Keq1"
      ]
     },
     "metadata": {},
     "output_type": "display_data"
    },
    {
     "data": {
      "text/html": [
       "<html><script type=\"math/tex; mode=display\">\\newcommand{\\Bold}[1]{\\mathbf{#1}}25142.2996605887</script></html>"
      ],
      "text/plain": [
       "25142.2996605887"
      ]
     },
     "metadata": {},
     "output_type": "display_data"
    }
   ],
   "source": [
    "var(\"Keq1\",latex_name=\"K_{eq}^1\")\n",
    "Keq1.show()\n",
    "Keq1 = exp(-delGr/(R*T.subs(T_info)))\n",
    "Keq1.show()"
   ]
  },
  {
   "cell_type": "markdown",
   "metadata": {},
   "source": [
    "Since Sulphur is only present in COS and there is one Sulphur atom per every COS molecule, the change in amount of sulphur is same as change in amount of COS.\n",
    "\n",
    "With the reaction in mind: $$COS(g)+Fe(s) = CO(g)+FeS(s)$$\n",
    "The following table shows the change in volume fractions of the respective gases.\n",
    "\n",
    "|%V/V of|COS|CO|\n",
    "|--|--|--|\n",
    "|Initial|0.004|0.9|\n",
    "|Final|0.004-x|0.9+x|\n",
    "\n",
    "The equlibrium constant can be represented in terms of these mole fractions as :\n",
    "$$K_{eq}^1 = \\frac{\\chi_{Co}}{\\chi_{COS}}$$\n",
    "Substituting volume fractions calcel out all other terms which gives us :\n",
    "$$K_{eq}^1 = \\frac{0.9+x}{0.004-x}$$\n",
    "Equating both $K_{eq}$ will give us the value of $x$"
   ]
  },
  {
   "cell_type": "code",
   "execution_count": 132,
   "metadata": {},
   "outputs": [
    {
     "data": {
      "text/html": [
       "<html><script type=\"math/tex; mode=display\">\\newcommand{\\Bold}[1]{\\mathbf{#1}}25142.2996605887 = -\\frac{x + 0.900000000000000}{x - 0.00400000000000000}</script></html>"
      ],
      "text/plain": [
       "25142.2996605887 == -(x + 0.900000000000000)/(x - 0.00400000000000000)"
      ]
     },
     "metadata": {},
     "output_type": "display_data"
    }
   ],
   "source": [
    "var('x')\n",
    "exp1 = Keq1 == (CO_initial+x)/(COS_initial-x)\n",
    "exp1.show()"
   ]
  },
  {
   "cell_type": "markdown",
   "metadata": {},
   "source": [
    "solving for  $x$"
   ]
  },
  {
   "cell_type": "code",
   "execution_count": 133,
   "metadata": {},
   "outputs": [
    {
     "name": "stdout",
     "output_type": "stream",
     "text": [
      "V/V% of COS removed is given by: \n"
     ]
    },
    {
     "data": {
      "text/plain": [
       "0.00396404608733924"
      ]
     },
     "execution_count": 133,
     "metadata": {},
     "output_type": "execute_result"
    }
   ],
   "source": [
    "xeq = solve(exp1,x)\n",
    "COS_removed = x.subs(xeq)\n",
    "print(\"V/V% of COS removed is given by: \")\n",
    "COS_removed.n()"
   ]
  },
  {
   "cell_type": "code",
   "execution_count": 134,
   "metadata": {},
   "outputs": [],
   "source": [
    "percentage_removed = COS_removed / COS_initial *100"
   ]
  },
  {
   "cell_type": "markdown",
   "metadata": {},
   "source": [
    "Percentage of sulphur removed"
   ]
  },
  {
   "cell_type": "code",
   "execution_count": 100,
   "metadata": {},
   "outputs": [
    {
     "data": {
      "text/plain": [
       "99.1011521834811"
      ]
     },
     "execution_count": 100,
     "metadata": {},
     "output_type": "execute_result"
    }
   ],
   "source": [
    "percentage_removed.n()"
   ]
  },
  {
   "cell_type": "markdown",
   "metadata": {},
   "source": [
    "## 2 Solution"
   ]
  },
  {
   "cell_type": "code",
   "execution_count": 85,
   "metadata": {},
   "outputs": [
    {
     "data": {
      "text/html": [
       "<html><script type=\"math/tex; mode=display\">\\newcommand{\\Bold}[1]{\\mathbf{#1}}{K_{eq}^2}</script></html>"
      ],
      "text/plain": [
       "Keq2"
      ]
     },
     "metadata": {},
     "output_type": "display_data"
    },
    {
     "data": {
      "text/html": [
       "<html><script type=\"math/tex; mode=display\">\\newcommand{\\Bold}[1]{\\mathbf{#1}}126152.778302548</script></html>"
      ],
      "text/plain": [
       "126152.778302548"
      ]
     },
     "metadata": {},
     "output_type": "display_data"
    }
   ],
   "source": [
    "var('Keq2',latex_name=\"K_{eq}^2\")\n",
    "Keq2.show()\n",
    "Keq2 = exp(-delG3.subs(T_info)/(R*T.subs(T_info)))\n",
    "Keq2.show()"
   ]
  },
  {
   "cell_type": "code",
   "execution_count": 88,
   "metadata": {},
   "outputs": [
    {
     "data": {
      "text/html": [
       "<html><script type=\"math/tex; mode=display\">\\newcommand{\\Bold}[1]{\\mathbf{#1}}126152.778302548 = \\frac{1}{\\sqrt{{p_{S_2}}}}</script></html>"
      ],
      "text/plain": [
       "126152.778302548 == 1/sqrt(pS)"
      ]
     },
     "metadata": {},
     "output_type": "display_data"
    }
   ],
   "source": [
    "var('pS',latex_name=\"p_{S_2}\")\n",
    "exp2 = K3 == 1/pS^0.5\n",
    "exp2.show()\n",
    "pS0 = pS.subs(solve(exp2,pS)).n()"
   ]
  },
  {
   "cell_type": "markdown",
   "metadata": {},
   "source": [
    "The partial pressure of $S_2$ in the effluent gas is:"
   ]
  },
  {
   "cell_type": "code",
   "execution_count": 89,
   "metadata": {},
   "outputs": [
    {
     "data": {
      "text/plain": [
       "6.28356860114702e-11"
      ]
     },
     "execution_count": 89,
     "metadata": {},
     "output_type": "execute_result"
    }
   ],
   "source": [
    "pS0"
   ]
  }
 ],
 "metadata": {
  "kernelspec": {
   "display_name": "SageMath 9.0",
   "language": "sage",
   "name": "sagemath"
  },
  "language_info": {
   "codemirror_mode": {
    "name": "ipython",
    "version": 3
   },
   "file_extension": ".py",
   "mimetype": "text/x-python",
   "name": "python",
   "nbconvert_exporter": "python",
   "pygments_lexer": "ipython3",
   "version": "3.8.5"
  }
 },
 "nbformat": 4,
 "nbformat_minor": 4
}
